{
 "cells": [
  {
   "cell_type": "code",
   "execution_count": 1,
   "id": "1c1b864c-141d-4ac8-8a5c-32f602360f83",
   "metadata": {},
   "outputs": [
    {
     "name": "stderr",
     "output_type": "stream",
     "text": [
      "05/09/2021 11:40:45 AM Starting. Args=['/hps/software/users/birney/shimin/miniconda3/envs/r_env/lib/python3.9/site-packages/ipykernel_launcher.py', '-f', '/homes/shimin/.local/share/jupyter/runtime/kernel-e027def3-ada7-4e64-8f12-37ec9ef2c218.json']\n"
     ]
    }
   ],
   "source": [
    "# get_lof.py\n",
    "# Usage: get_lof.py FE_plink.chr21.recode.vep.vcf.gz chr21\n",
    "\n",
    "import sys\n",
    "import vcf\n",
    "import time\n",
    "import logging\n",
    "logging.basicConfig(format='%(asctime)s %(message)s', datefmt='%m/%d/%Y %I:%M:%S %p')\n",
    "\n",
    "logging.warning('Starting. Args={}'.format(sys.argv))\n",
    "\n"
   ]
  },
  {
   "cell_type": "code",
   "execution_count": 24,
   "id": "57143f61-bd2f-4672-89e5-c97d00732fd7",
   "metadata": {},
   "outputs": [],
   "source": [
    "sys.argv[1] = '/nfs/research/birney/users/shimin/ukbb/wes/200k/pvcf/4_vep/ukb23156_c10_b0_v1.vep.qc.norm.vcf.bgz'\n",
    "sys.argv[2] = 'test'\n",
    "\n",
    "vcf_reader = vcf.Reader(filename=sys.argv[1], compressed=True)\n",
    "n_record = 0\n",
    "n_mask1 = 0\n",
    "n_mask2 = 0"
   ]
  },
  {
   "cell_type": "code",
   "execution_count": 3,
   "id": "26e30cfd-7bce-4dce-b090-c38f477aded2",
   "metadata": {},
   "outputs": [
    {
     "name": "stdout",
     "output_type": "stream",
     "text": [
      "['Allele', 'Consequence', 'IMPACT', 'SYMBOL', 'Gene', 'Feature_type', 'Feature', 'BIOTYPE', 'EXON', 'INTRON', 'HGVSc', 'HGVSp', 'cDNA_position', 'CDS_position', 'Protein_position', 'Amino_acids', 'Codons', 'Existing_variation', 'DISTANCE', 'STRAND', 'FLAGS', 'VARIANT_CLASS', 'SYMBOL_SOURCE', 'HGNC_ID', 'CANONICAL', 'MANE_SELECT', 'MANE_PLUS_CLINICAL', 'TSL', 'APPRIS', 'CCDS', 'ENSP', 'SWISSPROT', 'TREMBL', 'UNIPARC', 'UNIPROT_ISOFORM', 'GENE_PHENO', 'SIFT', 'PolyPhen', 'DOMAINS', 'miRNA', 'HGVS_OFFSET', 'AF', 'AFR_AF', 'AMR_AF', 'EAS_AF', 'EUR_AF', 'SAS_AF', 'AA_AF', 'EA_AF', 'gnomAD_AF', 'gnomAD_AFR_AF', 'gnomAD_AMR_AF', 'gnomAD_ASJ_AF', 'gnomAD_EAS_AF', 'gnomAD_FIN_AF', 'gnomAD_NFE_AF', 'gnomAD_OTH_AF', 'gnomAD_SAS_AF', 'MAX_AF', 'MAX_AF_POPS', 'CLIN_SIG', 'SOMATIC', 'PHENO', 'PUBMED', 'MOTIF_NAME', 'MOTIF_POS', 'HIGH_INF_POS', 'MOTIF_SCORE_CHANGE', 'TRANSCRIPTION_FACTORS', 'Ensembl_transcriptid', 'LRT_pred', 'MutationTaster_pred', 'Polyphen2_HDIV_pred', 'Polyphen2_HVAR_pred', 'SIFT_pred', 'Uniprot_acc', 'VEP_canonical', 'LoF', 'LoF_filter', 'LoF_flags', 'LoF_info']\n"
     ]
    }
   ],
   "source": [
    "## Find out colnames for CSQ\n",
    "info_format = vcf_reader.infos['CSQ'].desc.split('Format: ')[1].split('|')\n",
    "print(info_format)\n",
    "max_af = info_format.index('MAX_AF')\n",
    "lof = info_format.index('LoF')\n",
    "canonical = info_format.index('CANONICAL')\n",
    "lrt_pred = info_format.index('LRT_pred')\n",
    "consequence = info_format.index('Consequence')\n",
    "impact = info_format.index('IMPACT')"
   ]
  },
  {
   "cell_type": "code",
   "execution_count": 25,
   "id": "9e6373f5-9080-49e3-925c-c0b4f30b651f",
   "metadata": {},
   "outputs": [
    {
     "ename": "KeyboardInterrupt",
     "evalue": "",
     "output_type": "error",
     "traceback": [
      "\u001b[0;31m---------------------------------------------------------------------------\u001b[0m",
      "\u001b[0;31mKeyboardInterrupt\u001b[0m                         Traceback (most recent call last)",
      "\u001b[0;32m<ipython-input-25-004c45502d09>\u001b[0m in \u001b[0;36m<module>\u001b[0;34m\u001b[0m\n\u001b[1;32m     23\u001b[0m \u001b[0;31m# Input VCF with VEP annotated variants\u001b[0m\u001b[0;34m\u001b[0m\u001b[0;34m\u001b[0m\u001b[0;34m\u001b[0m\u001b[0m\n\u001b[1;32m     24\u001b[0m \u001b[0mt\u001b[0m \u001b[0;34m=\u001b[0m \u001b[0mtime\u001b[0m\u001b[0;34m.\u001b[0m\u001b[0mprocess_time\u001b[0m\u001b[0;34m(\u001b[0m\u001b[0;34m)\u001b[0m\u001b[0;34m\u001b[0m\u001b[0;34m\u001b[0m\u001b[0m\n\u001b[0;32m---> 25\u001b[0;31m \u001b[0;32mfor\u001b[0m \u001b[0mrecord\u001b[0m \u001b[0;32min\u001b[0m \u001b[0mvcf_reader\u001b[0m\u001b[0;34m:\u001b[0m\u001b[0;34m\u001b[0m\u001b[0;34m\u001b[0m\u001b[0m\n\u001b[0m\u001b[1;32m     26\u001b[0m     \u001b[0mn_record\u001b[0m \u001b[0;34m+=\u001b[0m \u001b[0;36m1\u001b[0m\u001b[0;34m\u001b[0m\u001b[0;34m\u001b[0m\u001b[0m\n\u001b[1;32m     27\u001b[0m     \u001b[0;32mif\u001b[0m \u001b[0mn_record\u001b[0m \u001b[0;34m%\u001b[0m \u001b[0;36m1000\u001b[0m \u001b[0;34m==\u001b[0m \u001b[0;36m0\u001b[0m\u001b[0;34m:\u001b[0m\u001b[0;34m\u001b[0m\u001b[0;34m\u001b[0m\u001b[0m\n",
      "\u001b[0;32m/hps/software/users/birney/shimin/miniconda3/envs/r_env/lib/python3.9/site-packages/vcf/parser.py\u001b[0m in \u001b[0;36m__next__\u001b[0;34m(self)\u001b[0m\n\u001b[1;32m    584\u001b[0m \u001b[0;34m\u001b[0m\u001b[0m\n\u001b[1;32m    585\u001b[0m         \u001b[0;32mif\u001b[0m \u001b[0mfmt\u001b[0m \u001b[0;32mis\u001b[0m \u001b[0;32mnot\u001b[0m \u001b[0;32mNone\u001b[0m\u001b[0;34m:\u001b[0m\u001b[0;34m\u001b[0m\u001b[0;34m\u001b[0m\u001b[0m\n\u001b[0;32m--> 586\u001b[0;31m             \u001b[0msamples\u001b[0m \u001b[0;34m=\u001b[0m \u001b[0mself\u001b[0m\u001b[0;34m.\u001b[0m\u001b[0m_parse_samples\u001b[0m\u001b[0;34m(\u001b[0m\u001b[0mrow\u001b[0m\u001b[0;34m[\u001b[0m\u001b[0;36m9\u001b[0m\u001b[0;34m:\u001b[0m\u001b[0;34m]\u001b[0m\u001b[0;34m,\u001b[0m \u001b[0mfmt\u001b[0m\u001b[0;34m,\u001b[0m \u001b[0mrecord\u001b[0m\u001b[0;34m)\u001b[0m\u001b[0;34m\u001b[0m\u001b[0;34m\u001b[0m\u001b[0m\n\u001b[0m\u001b[1;32m    587\u001b[0m             \u001b[0mrecord\u001b[0m\u001b[0;34m.\u001b[0m\u001b[0msamples\u001b[0m \u001b[0;34m=\u001b[0m \u001b[0msamples\u001b[0m\u001b[0;34m\u001b[0m\u001b[0;34m\u001b[0m\u001b[0m\n\u001b[1;32m    588\u001b[0m \u001b[0;34m\u001b[0m\u001b[0m\n",
      "\u001b[0;32m/hps/software/users/birney/shimin/miniconda3/envs/r_env/lib/python3.9/site-packages/vcf/parser.py\u001b[0m in \u001b[0;36m_parse_samples\u001b[0;34m(self, samples, samp_fmt, site)\u001b[0m\n\u001b[1;32m    492\u001b[0m                     \u001b[0;32mcontinue\u001b[0m\u001b[0;34m\u001b[0m\u001b[0;34m\u001b[0m\u001b[0m\n\u001b[1;32m    493\u001b[0m \u001b[0;34m\u001b[0m\u001b[0m\n\u001b[0;32m--> 494\u001b[0;31m                 \u001b[0mvals\u001b[0m \u001b[0;34m=\u001b[0m \u001b[0mvals\u001b[0m\u001b[0;34m.\u001b[0m\u001b[0msplit\u001b[0m\u001b[0;34m(\u001b[0m\u001b[0;34m','\u001b[0m\u001b[0;34m)\u001b[0m\u001b[0;34m\u001b[0m\u001b[0;34m\u001b[0m\u001b[0m\n\u001b[0m\u001b[1;32m    495\u001b[0m \u001b[0;34m\u001b[0m\u001b[0m\n\u001b[1;32m    496\u001b[0m                 \u001b[0;32mif\u001b[0m \u001b[0mentry_type\u001b[0m \u001b[0;34m==\u001b[0m \u001b[0;34m'Integer'\u001b[0m\u001b[0;34m:\u001b[0m\u001b[0;34m\u001b[0m\u001b[0;34m\u001b[0m\u001b[0m\n",
      "\u001b[0;31mKeyboardInterrupt\u001b[0m: "
     ]
    }
   ],
   "source": [
    "def apply_mask(csq_records):\n",
    "    global max_af, lof, canonical, impact, consequence\n",
    "    for csq in csq_records:\n",
    "        csq_info = csq.split('|')\n",
    "        maf = 0 if csq_info[max_af] == '' else float(csq_info[max_af])\n",
    "        # Rare, canonical\n",
    "        if csq_info[canonical] == 'YES' and maf < 0.01:\n",
    "            if csq_info[lof] == 'HC':\n",
    "                return('m1', csq_info)\n",
    "            elif csq_info[consequence] == 'missense_variant' and (csq_info[impact] in ('HIGH', 'MODERATE')):\n",
    "                return('m2', csq_info)\n",
    "    return(None, csq_info)\n",
    "\n",
    "\n",
    "# Generate genotype matrix\n",
    "fgt_m1 = open(sys.argv[2] + '.mask1.genotype.tsv', 'w')\n",
    "fgt_m2 = open(sys.argv[2] + '.mask2.genotype.tsv', 'w')\n",
    "# Write header of sample names.\n",
    "fgt_m1.write(\"\\t\".join(['CHROM', 'POS', 'ID', 'REF', 'ALT'] + info_format + vcf_reader.samples) + '\\n')\n",
    "fgt_m2.write(\"\\t\".join(['CHROM', 'POS', 'ID', 'REF', 'ALT'] + info_format + vcf_reader.samples) + '\\n')\n",
    "\n",
    "    \n",
    "# Input VCF with VEP annotated variants\n",
    "t = time.process_time()\n",
    "for record in vcf_reader:\n",
    "    n_record += 1\n",
    "    if n_record % 1000 == 0:\n",
    "        delta_t = time.process_time() - t\n",
    "        logging.warning('Processing {} records, {} secs passed.'.format(n_record, delta_t))\n",
    "    if record.aaf[0] > 0.01:\n",
    "        # Not rare in the current cohort, skip\n",
    "        continue\n",
    "    mask, info = apply_mask(record.INFO['CSQ'])\n",
    "    if mask == 'm1':\n",
    "        n_mask1 += 1\n",
    "        # The type of genotype. hom_ref = 0 het = 1 hom_alt = 2 uncalled = None\n",
    "        gt = [str(spl.gt_type) for spl in record.samples]\n",
    "        fgt_m1.write(\"\\t\".join([record.CHROM, str(record.POS), record.ID, record.REF, str(record.ALT[0])] + info + gt) + '\\n')\n",
    "    elif mask == 'm2':\n",
    "        n_mask2 += 1\n",
    "        gt = [str(spl.gt_type) for spl in record.samples]\n",
    "        fgt_m2.write(\"\\t\".join([record.CHROM, str(record.POS), record.ID, record.REF, str(record.ALT[0])] + info + gt) + '\\n')\n",
    "\n",
    "fgt_m1.close()\n",
    "fgt_m2.close()\n",
    "\n",
    "logging.warning(f'Stats,n_mask1,n_mask2,n_record')\n",
    "logging.warning(f'Stats,{n_mask1},{n_mask2},{n_record}')"
   ]
  },
  {
   "cell_type": "code",
   "execution_count": 26,
   "id": "801c778a-c9dd-4e38-9778-f0939b359915",
   "metadata": {},
   "outputs": [
    {
     "data": {
      "text/plain": [
       "['T|missense_variant|MODERATE|ZMYND11|ENSG00000015171|Transcript|ENST00000309776|protein_coding|4/14||ENST00000309776.8:c.317C>T|ENSP00000309992.5:p.Thr106Ile|745|317|106|T/I|aCa/aTa|||1||SNV|HGNC|HGNC:16966||||2||CCDS73061.1|ENSP00000309992||B7Z2J6.84|UPI0001914D38||1|tolerated(0.13)|benign(0.006)|Gene3D:1.20.920.10&PANTHER:PTHR46379&SMART:SM00297&CDD:cd05492|||||||||||||||||||||||||||||||ENST00000439456&ENST00000397962&ENST00000381604&ENST00000397959&ENST00000309776&ENST00000509513&ENST00000381591&ENST00000403354&ENST00000381607&ENST00000402736&ENST00000602682&ENST00000397955&ENST00000381584&ENST00000558098&ENST00000627286|D||.&.&.&.&B&.&.&P&.&P&.&.&.&.&.|.&.&.&.&B&.&.&B&.&B&.&.&.&.&.|D&T&.&T&.&T&T&T&T&T&.&T&T&T&.|E9PE09&Q15326&A0A0A0MRY2&Q15326-5&B7Z2J6&Q15326-6&Q15326&B0QZE2&Q15326-2&E7ENI9&Q15326-5&E7EV75&J3QKD2&Q15326-3&J3QKD2|.&.&.&.&.&.&YES&.&.&.&.&.&.&.&.||||',\n",
       " 'T|missense_variant|MODERATE|ZMYND11|ENSG00000015171|Transcript|ENST00000381584|protein_coding|5/15||ENST00000381584.5:c.428C>T|ENSP00000370996.1:p.Thr143Ile|593|428|143|T/I|aCa/aTa|||1||SNV|HGNC|HGNC:16966||||1||CCDS81436.1|ENSP00000370996||J3QKD2.76|UPI0000D4F28A||1|tolerated(0.19)|possibly_damaging(0.733)|Gene3D:1.20.920.10&PANTHER:PTHR46379&SMART:SM00297&Superfamily:SSF47370&CDD:cd05492|||||||||||||||||||||||||||||||ENST00000439456&ENST00000397962&ENST00000381604&ENST00000397959&ENST00000309776&ENST00000509513&ENST00000381591&ENST00000403354&ENST00000381607&ENST00000402736&ENST00000602682&ENST00000397955&ENST00000381584&ENST00000558098&ENST00000627286|D||.&.&.&.&B&.&.&P&.&P&.&.&.&.&.|.&.&.&.&B&.&.&B&.&B&.&.&.&.&.|D&T&.&T&.&T&T&T&T&T&.&T&T&T&.|E9PE09&Q15326&A0A0A0MRY2&Q15326-5&B7Z2J6&Q15326-6&Q15326&B0QZE2&Q15326-2&E7ENI9&Q15326-5&E7EV75&J3QKD2&Q15326-3&J3QKD2|.&.&.&.&.&.&YES&.&.&.&.&.&.&.&.||||',\n",
       " 'T|missense_variant|MODERATE|ZMYND11|ENSG00000015171|Transcript|ENST00000381591|protein_coding|5/15||ENST00000381591.5:c.479C>T|ENSP00000371003.1:p.Thr160Ile|732|479|160|T/I|aCa/aTa|||1||SNV|HGNC|HGNC:16966||||5|P4|CCDS7052.2|ENSP00000371003|Q15326.186||UPI0000458A5F|Q15326-1|1|tolerated(0.19)|benign(0.125)|Gene3D:1.20.920.10&PDB-ENSP_mappings:4ns5.A&PANTHER:PTHR46379&SMART:SM00297&Superfamily:SSF47370&CDD:cd05492|||||||||||||||||||||||||||||||ENST00000439456&ENST00000397962&ENST00000381604&ENST00000397959&ENST00000309776&ENST00000509513&ENST00000381591&ENST00000403354&ENST00000381607&ENST00000402736&ENST00000602682&ENST00000397955&ENST00000381584&ENST00000558098&ENST00000627286|D||.&.&.&.&B&.&.&P&.&P&.&.&.&.&.|.&.&.&.&B&.&.&B&.&B&.&.&.&.&.|D&T&.&T&.&T&T&T&T&T&.&T&T&T&.|E9PE09&Q15326&A0A0A0MRY2&Q15326-5&B7Z2J6&Q15326-6&Q15326&B0QZE2&Q15326-2&E7ENI9&Q15326-5&E7EV75&J3QKD2&Q15326-3&J3QKD2|.&.&.&.&.&.&YES&.&.&.&.&.&.&.&.||||',\n",
       " 'T|missense_variant|MODERATE|ZMYND11|ENSG00000015171|Transcript|ENST00000381604|protein_coding|5/15||ENST00000381604.9:c.479C>T|ENSP00000371017.6:p.Thr160Ile|603|479|160|T/I|aCa/aTa|||1||SNV|HGNC|HGNC:16966|YES|NM_001370100.5||5|P4|CCDS7052.2|ENSP00000371017||A0A0A0MRY2.43|UPI0000458A5F||1|tolerated(0.19)|benign(0.125)|Gene3D:1.20.920.10&PANTHER:PTHR46379&SMART:SM00297&Superfamily:SSF47370&CDD:cd05492|||||||||||||||||||||||||||||||ENST00000439456&ENST00000397962&ENST00000381604&ENST00000397959&ENST00000309776&ENST00000509513&ENST00000381591&ENST00000403354&ENST00000381607&ENST00000402736&ENST00000602682&ENST00000397955&ENST00000381584&ENST00000558098&ENST00000627286|D||.&.&.&.&B&.&.&P&.&P&.&.&.&.&.|.&.&.&.&B&.&.&B&.&B&.&.&.&.&.|D&T&.&T&.&T&T&T&T&T&.&T&T&T&.|E9PE09&Q15326&A0A0A0MRY2&Q15326-5&B7Z2J6&Q15326-6&Q15326&B0QZE2&Q15326-2&E7ENI9&Q15326-5&E7EV75&J3QKD2&Q15326-3&J3QKD2|.&.&.&.&.&.&YES&.&.&.&.&.&.&.&.||||',\n",
       " 'T|missense_variant|MODERATE|ZMYND11|ENSG00000015171|Transcript|ENST00000381607|protein_coding|4/14||ENST00000381607.8:c.317C>T|ENSP00000371020.5:p.Thr106Ile|412|317|106|T/I|aCa/aTa|||1||SNV|HGNC|HGNC:16966||||1||CCDS73060.1|ENSP00000371020|Q15326.186||UPI00006896E0|Q15326-2|1|tolerated(0.13)|benign(0.143)|Gene3D:1.20.920.10&PANTHER:PTHR46379&SMART:SM00297&CDD:cd05492|||||||||||||||||||||||||||||||ENST00000439456&ENST00000397962&ENST00000381604&ENST00000397959&ENST00000309776&ENST00000509513&ENST00000381591&ENST00000403354&ENST00000381607&ENST00000402736&ENST00000602682&ENST00000397955&ENST00000381584&ENST00000558098&ENST00000627286|D||.&.&.&.&B&.&.&P&.&P&.&.&.&.&.|.&.&.&.&B&.&.&B&.&B&.&.&.&.&.|D&T&.&T&.&T&T&T&T&T&.&T&T&T&.|E9PE09&Q15326&A0A0A0MRY2&Q15326-5&B7Z2J6&Q15326-6&Q15326&B0QZE2&Q15326-2&E7ENI9&Q15326-5&E7EV75&J3QKD2&Q15326-3&J3QKD2|.&.&.&.&.&.&YES&.&.&.&.&.&.&.&.||||',\n",
       " 'T|missense_variant|MODERATE|ZMYND11|ENSG00000015171|Transcript|ENST00000397955|protein_coding|6/16||ENST00000397955.7:c.524C>T|ENSP00000381046.3:p.Thr175Ile|584|524|175|T/I|aCa/aTa|||1||SNV|HGNC|HGNC:16966||||5|A1||ENSP00000381046||E7EV75.61|UPI0003E6AC13||1|tolerated(0.19)|benign(0.112)|Gene3D:1.20.920.10&PANTHER:PTHR46379&SMART:SM00297&Superfamily:SSF47370&CDD:cd05492|||||||||||||||||||||||||||||||ENST00000439456&ENST00000397962&ENST00000381604&ENST00000397959&ENST00000309776&ENST00000509513&ENST00000381591&ENST00000403354&ENST00000381607&ENST00000402736&ENST00000602682&ENST00000397955&ENST00000381584&ENST00000558098&ENST00000627286|D||.&.&.&.&B&.&.&P&.&P&.&.&.&.&.|.&.&.&.&B&.&.&B&.&B&.&.&.&.&.|D&T&.&T&.&T&T&T&T&T&.&T&T&T&.|E9PE09&Q15326&A0A0A0MRY2&Q15326-5&B7Z2J6&Q15326-6&Q15326&B0QZE2&Q15326-2&E7ENI9&Q15326-5&E7EV75&J3QKD2&Q15326-3&J3QKD2|.&.&.&.&.&.&YES&.&.&.&.&.&.&.&.||||',\n",
       " 'T|missense_variant|MODERATE|ZMYND11|ENSG00000015171|Transcript|ENST00000397959|protein_coding|4/13||ENST00000397959.7:c.317C>T|ENSP00000381050.3:p.Thr106Ile|745|317|106|T/I|aCa/aTa|||1||SNV|HGNC|HGNC:16966||||2||CCDS55697.1|ENSP00000381050|Q15326.186||UPI0001914BB2|Q15326-5|1|tolerated(0.15)|benign(0.085)|Gene3D:1.20.920.10&PROSITE_profiles:PS50014&PANTHER:PTHR46379&SMART:SM00297|||||||||||||||||||||||||||||||ENST00000439456&ENST00000397962&ENST00000381604&ENST00000397959&ENST00000309776&ENST00000509513&ENST00000381591&ENST00000403354&ENST00000381607&ENST00000402736&ENST00000602682&ENST00000397955&ENST00000381584&ENST00000558098&ENST00000627286|D||.&.&.&.&B&.&.&P&.&P&.&.&.&.&.|.&.&.&.&B&.&.&B&.&B&.&.&.&.&.|D&T&.&T&.&T&T&T&T&T&.&T&T&T&.|E9PE09&Q15326&A0A0A0MRY2&Q15326-5&B7Z2J6&Q15326-6&Q15326&B0QZE2&Q15326-2&E7ENI9&Q15326-5&E7EV75&J3QKD2&Q15326-3&J3QKD2|.&.&.&.&.&.&YES&.&.&.&.&.&.&.&.||||',\n",
       " 'T|missense_variant|MODERATE|ZMYND11|ENSG00000015171|Transcript|ENST00000397962|protein_coding|5/15||ENST00000397962.8:c.479C>T|ENSP00000381053.3:p.Thr160Ile|820|479|160|T/I|aCa/aTa|||1||SNV|HGNC|HGNC:16966||||1|P4|CCDS7052.2|ENSP00000381053|Q15326.186||UPI0000458A5F|Q15326-1|1|tolerated(0.19)|benign(0.125)|Gene3D:1.20.920.10&PDB-ENSP_mappings:4ns5.A&PANTHER:PTHR46379&SMART:SM00297&Superfamily:SSF47370&CDD:cd05492|||||||||||||||||||||||||||||||ENST00000439456&ENST00000397962&ENST00000381604&ENST00000397959&ENST00000309776&ENST00000509513&ENST00000381591&ENST00000403354&ENST00000381607&ENST00000402736&ENST00000602682&ENST00000397955&ENST00000381584&ENST00000558098&ENST00000627286|D||.&.&.&.&B&.&.&P&.&P&.&.&.&.&.|.&.&.&.&B&.&.&B&.&B&.&.&.&.&.|D&T&.&T&.&T&T&T&T&T&.&T&T&T&.|E9PE09&Q15326&A0A0A0MRY2&Q15326-5&B7Z2J6&Q15326-6&Q15326&B0QZE2&Q15326-2&E7ENI9&Q15326-5&E7EV75&J3QKD2&Q15326-3&J3QKD2|.&.&.&.&.&.&YES&.&.&.&.&.&.&.&.||||',\n",
       " 'T|missense_variant|MODERATE|ZMYND11|ENSG00000015171|Transcript|ENST00000402736|protein_coding|5/14||ENST00000402736.5:c.479C>T|ENSP00000386010.1:p.Thr160Ile|549|479|160|T/I|aCa/aTa|||1||SNV|HGNC|HGNC:16966||||5|||ENSP00000386010||E7ENI9.77|UPI000046A19D||1|tolerated(0.11)|benign(0.125)|Gene3D:1.20.920.10&PROSITE_profiles:PS50014&PANTHER:PTHR46379&SMART:SM00297&Superfamily:SSF47370|||||||||||||||||||||||||||||||ENST00000439456&ENST00000397962&ENST00000381604&ENST00000397959&ENST00000309776&ENST00000509513&ENST00000381591&ENST00000403354&ENST00000381607&ENST00000402736&ENST00000602682&ENST00000397955&ENST00000381584&ENST00000558098&ENST00000627286|D||.&.&.&.&B&.&.&P&.&P&.&.&.&.&.|.&.&.&.&B&.&.&B&.&B&.&.&.&.&.|D&T&.&T&.&T&T&T&T&T&.&T&T&T&.|E9PE09&Q15326&A0A0A0MRY2&Q15326-5&B7Z2J6&Q15326-6&Q15326&B0QZE2&Q15326-2&E7ENI9&Q15326-5&E7EV75&J3QKD2&Q15326-3&J3QKD2|.&.&.&.&.&.&YES&.&.&.&.&.&.&.&.||||',\n",
       " 'T|missense_variant|MODERATE|ZMYND11|ENSG00000015171|Transcript|ENST00000403354|protein_coding|4/13||ENST00000403354.5:c.317C>T|ENSP00000385484.1:p.Thr106Ile|412|317|106|T/I|aCa/aTa|||1||SNV|HGNC|HGNC:16966||||5|||ENSP00000385484||B0QZE2.90|UPI0000E22278||1|deleterious(0.05)|benign(0.147)|Gene3D:1.20.920.10&PANTHER:PTHR46379&SMART:SM00297&CDD:cd05492|||||||||||||||||||||||||||||||ENST00000439456&ENST00000397962&ENST00000381604&ENST00000397959&ENST00000309776&ENST00000509513&ENST00000381591&ENST00000403354&ENST00000381607&ENST00000402736&ENST00000602682&ENST00000397955&ENST00000381584&ENST00000558098&ENST00000627286|D||.&.&.&.&B&.&.&P&.&P&.&.&.&.&.|.&.&.&.&B&.&.&B&.&B&.&.&.&.&.|D&T&.&T&.&T&T&T&T&T&.&T&T&T&.|E9PE09&Q15326&A0A0A0MRY2&Q15326-5&B7Z2J6&Q15326-6&Q15326&B0QZE2&Q15326-2&E7ENI9&Q15326-5&E7EV75&J3QKD2&Q15326-3&J3QKD2|.&.&.&.&.&.&YES&.&.&.&.&.&.&.&.||||',\n",
       " 'T|missense_variant|MODERATE|ZMYND11|ENSG00000015171|Transcript|ENST00000439456|protein_coding|4/5||ENST00000439456.5:c.317C>T|ENSP00000397072.1:p.Thr106Ile|658|317|106|T/I|aCa/aTa|||1|cds_end_NF|SNV|HGNC|HGNC:16966||||4|||ENSP00000397072||E9PE09.44|UPI0001D3B1FA||1|tolerated(0.07)|benign(0.147)|PANTHER:PTHR46379|||||||||||||||||||||||||||||||ENST00000439456&ENST00000397962&ENST00000381604&ENST00000397959&ENST00000309776&ENST00000509513&ENST00000381591&ENST00000403354&ENST00000381607&ENST00000402736&ENST00000602682&ENST00000397955&ENST00000381584&ENST00000558098&ENST00000627286|D||.&.&.&.&B&.&.&P&.&P&.&.&.&.&.|.&.&.&.&B&.&.&B&.&B&.&.&.&.&.|D&T&.&T&.&T&T&T&T&T&.&T&T&T&.|E9PE09&Q15326&A0A0A0MRY2&Q15326-5&B7Z2J6&Q15326-6&Q15326&B0QZE2&Q15326-2&E7ENI9&Q15326-5&E7EV75&J3QKD2&Q15326-3&J3QKD2|.&.&.&.&.&.&YES&.&.&.&.&.&.&.&.||||',\n",
       " 'T|upstream_gene_variant|MODIFIER|ZMYND11|ENSG00000015171|Transcript|ENST00000488275|retained_intron|||||||||||3084|1||SNV|HGNC|HGNC:16966||||2||||||||1|||||||||||||||||||||||||||||||||||||||||||||',\n",
       " 'T|missense_variant|MODERATE|ZMYND11|ENSG00000015171|Transcript|ENST00000509513|protein_coding|5/14||ENST00000509513.6:c.479C>T|ENSP00000424205.2:p.Thr160Ile|688|479|160|T/I|aCa/aTa|||1||SNV|HGNC|HGNC:16966||||1||CCDS7053.2|ENSP00000424205|Q15326.186||UPI0000141075|Q15326-6|1|tolerated(0.13)|possibly_damaging(0.642)|Gene3D:1.20.920.10&PANTHER:PTHR46379&SMART:SM00297&Superfamily:SSF47370&CDD:cd05492|||||||||||||||||||||||||||||||ENST00000439456&ENST00000397962&ENST00000381604&ENST00000397959&ENST00000309776&ENST00000509513&ENST00000381591&ENST00000403354&ENST00000381607&ENST00000402736&ENST00000602682&ENST00000397955&ENST00000381584&ENST00000558098&ENST00000627286|D||.&.&.&.&B&.&.&P&.&P&.&.&.&.&.|.&.&.&.&B&.&.&B&.&B&.&.&.&.&.|D&T&.&T&.&T&T&T&T&T&.&T&T&T&.|E9PE09&Q15326&A0A0A0MRY2&Q15326-5&B7Z2J6&Q15326-6&Q15326&B0QZE2&Q15326-2&E7ENI9&Q15326-5&E7EV75&J3QKD2&Q15326-3&J3QKD2|.&.&.&.&.&.&YES&.&.&.&.&.&.&.&.||||',\n",
       " 'T|missense_variant|MODERATE|ZMYND11|ENSG00000015171|Transcript|ENST00000558098|protein_coding|4/13||ENST00000558098.4:c.479C>T|ENSP00000452959.1:p.Thr160Ile|479|479|160|T/I|aCa/aTa|||1||SNV|HGNC|HGNC:16966||||1||CCDS55696.1|ENSP00000452959|Q15326.186||UPI00001F8C7A|Q15326-3|1|tolerated(0.13)|benign(0.191)|Gene3D:1.20.920.10&PANTHER:PTHR46379&SMART:SM00297&Superfamily:SSF47370&CDD:cd05492|||||||||||||||||||||||||||||||ENST00000439456&ENST00000397962&ENST00000381604&ENST00000397959&ENST00000309776&ENST00000509513&ENST00000381591&ENST00000403354&ENST00000381607&ENST00000402736&ENST00000602682&ENST00000397955&ENST00000381584&ENST00000558098&ENST00000627286|D||.&.&.&.&B&.&.&P&.&P&.&.&.&.&.|.&.&.&.&B&.&.&B&.&B&.&.&.&.&.|D&T&.&T&.&T&T&T&T&T&.&T&T&T&.|E9PE09&Q15326&A0A0A0MRY2&Q15326-5&B7Z2J6&Q15326-6&Q15326&B0QZE2&Q15326-2&E7ENI9&Q15326-5&E7EV75&J3QKD2&Q15326-3&J3QKD2|.&.&.&.&.&.&YES&.&.&.&.&.&.&.&.||||',\n",
       " 'T|missense_variant|MODERATE|ZMYND11|ENSG00000015171|Transcript|ENST00000602682|protein_coding|4/13||ENST00000602682.6:c.317C>T|ENSP00000473321.1:p.Thr106Ile|424|317|106|T/I|aCa/aTa|||1||SNV|HGNC|HGNC:16966||||5||CCDS55697.1|ENSP00000473321|Q15326.186||UPI0001914BB2|Q15326-5|1|tolerated(0.15)|benign(0.085)|Gene3D:1.20.920.10&PROSITE_profiles:PS50014&PANTHER:PTHR46379&SMART:SM00297|||||||||||||||||||||||||||||||ENST00000439456&ENST00000397962&ENST00000381604&ENST00000397959&ENST00000309776&ENST00000509513&ENST00000381591&ENST00000403354&ENST00000381607&ENST00000402736&ENST00000602682&ENST00000397955&ENST00000381584&ENST00000558098&ENST00000627286|D||.&.&.&.&B&.&.&P&.&P&.&.&.&.&.|.&.&.&.&B&.&.&B&.&B&.&.&.&.&.|D&T&.&T&.&T&T&T&T&T&.&T&T&T&.|E9PE09&Q15326&A0A0A0MRY2&Q15326-5&B7Z2J6&Q15326-6&Q15326&B0QZE2&Q15326-2&E7ENI9&Q15326-5&E7EV75&J3QKD2&Q15326-3&J3QKD2|.&.&.&.&.&.&YES&.&.&.&.&.&.&.&.||||',\n",
       " 'T|missense_variant|MODERATE|ZMYND11|ENSG00000015171|Transcript|ENST00000627286|protein_coding|5/15||ENST00000627286.2:c.479C>T|ENSP00000487386.2:p.Thr160Ile|550|479|160|T/I|aCa/aTa|||1||SNV|HGNC|HGNC:16966||||5|A1||ENSP00000487386||A0A0D9SGD6.1|UPI000387DBDC||1|tolerated(0.19)|benign(0.071)|Gene3D:1.20.920.10&PANTHER:PTHR46379&SMART:SM00297&Superfamily:SSF47370&CDD:cd05492|||||||||||||||||||||||||||||||ENST00000439456&ENST00000397962&ENST00000381604&ENST00000397959&ENST00000309776&ENST00000509513&ENST00000381591&ENST00000403354&ENST00000381607&ENST00000402736&ENST00000602682&ENST00000397955&ENST00000381584&ENST00000558098&ENST00000627286|D||.&.&.&.&B&.&.&P&.&P&.&.&.&.&.|.&.&.&.&B&.&.&B&.&B&.&.&.&.&.|D&T&.&T&.&T&T&T&T&T&.&T&T&T&.|E9PE09&Q15326&A0A0A0MRY2&Q15326-5&B7Z2J6&Q15326-6&Q15326&B0QZE2&Q15326-2&E7ENI9&Q15326-5&E7EV75&J3QKD2&Q15326-3&J3QKD2|.&.&.&.&.&.&YES&.&.&.&.&.&.&.&.||||']"
      ]
     },
     "execution_count": 26,
     "metadata": {},
     "output_type": "execute_result"
    }
   ],
   "source": [
    "record.INFO['CSQ']"
   ]
  },
  {
   "cell_type": "code",
   "execution_count": 23,
   "id": "94e11313-1bda-4b3b-a62c-1ffd0239194e",
   "metadata": {},
   "outputs": [
    {
     "data": {
      "text/plain": [
       "158"
      ]
     },
     "execution_count": 23,
     "metadata": {},
     "output_type": "execute_result"
    }
   ],
   "source": []
  },
  {
   "cell_type": "code",
   "execution_count": null,
   "id": "35f324e8-703e-4c15-9d63-e83378555e67",
   "metadata": {},
   "outputs": [],
   "source": []
  }
 ],
 "metadata": {
  "kernelspec": {
   "display_name": "Python 3",
   "language": "python",
   "name": "python3"
  },
  "language_info": {
   "codemirror_mode": {
    "name": "ipython",
    "version": 3
   },
   "file_extension": ".py",
   "mimetype": "text/x-python",
   "name": "python",
   "nbconvert_exporter": "python",
   "pygments_lexer": "ipython3",
   "version": "3.9.2"
  }
 },
 "nbformat": 4,
 "nbformat_minor": 5
}
