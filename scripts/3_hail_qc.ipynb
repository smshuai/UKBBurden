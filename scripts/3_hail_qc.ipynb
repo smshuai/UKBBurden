{
 "cells": [
  {
   "cell_type": "code",
   "execution_count": 1,
   "id": "a47aa585-e249-434a-a791-48509d8d6ec3",
   "metadata": {},
   "outputs": [
    {
     "name": "stderr",
     "output_type": "stream",
     "text": [
      "Running on Apache Spark version 2.4.1\n",
      "SparkUI available at http://hl-codon-09-03.ebi.ac.uk:4040\n",
      "Welcome to\n",
      "     __  __     <>__\n",
      "    / /_/ /__  __/ /\n",
      "   / __  / _ `/ / /\n",
      "  /_/ /_/\\_,_/_/_/   version 0.2.61-3c86d3ba497a\n",
      "LOGGING: writing to /nfs/research/birney/users/shimin/ukbb/wes/200k/UKBBurden/scripts/hail-20210508-0923-0.2.61-3c86d3ba497a.log\n"
     ]
    }
   ],
   "source": [
    "import hail as hl\n",
    "hl.init()"
   ]
  },
  {
   "cell_type": "code",
   "execution_count": 2,
   "id": "04678930-9caa-46e9-ba99-b76d645c0b69",
   "metadata": {},
   "outputs": [
    {
     "name": "stdout",
     "output_type": "stream",
     "text": [
      "../../pvcfQC/1_norm/ukb23156_c5_b28_v1.norm.vcf.gz ../../pvcfQC/3_hail_qc/ukb23156_c5_b28_v1.qc.norm.vcf.bgz\n"
     ]
    }
   ],
   "source": [
    "sid = 'ukb23156_c5_b28_v1'\n",
    "inVCF = f'../../pvcfQC/1_norm/{sid}.norm.vcf.gz'\n",
    "outVCF = f'../../pvcfQC/3_hail_qc/{sid}.qc.norm.vcf.bgz'\n",
    "print(inVCF, outVCF)"
   ]
  },
  {
   "cell_type": "code",
   "execution_count": 3,
   "id": "94c95392-0ccb-4a26-ad10-f28d7dc33c62",
   "metadata": {},
   "outputs": [
    {
     "name": "stderr",
     "output_type": "stream",
     "text": [
      "2021-05-08 09:23:57 Hail: INFO: Coerced almost-sorted dataset\n"
     ]
    },
    {
     "name": "stdout",
     "output_type": "stream",
     "text": [
      "(17339, 200643)\n"
     ]
    },
    {
     "name": "stderr",
     "output_type": "stream",
     "text": [
      "2021-05-08 09:24:27 Hail: INFO: Coerced almost-sorted dataset\n"
     ]
    },
    {
     "name": "stdout",
     "output_type": "stream",
     "text": [
      ">0.91% entries filtered out of downstream analysis.\n"
     ]
    },
    {
     "name": "stderr",
     "output_type": "stream",
     "text": [
      "2021-05-08 09:26:03 Hail: INFO: Coerced almost-sorted dataset\n"
     ]
    },
    {
     "name": "stdout",
     "output_type": "stream",
     "text": [
      "variantsPASS,../../pvcfQC/3_hail_qc/ukb23156_c5_b28_v1.qc.norm.vcf.bgz,16901,17339\n"
     ]
    },
    {
     "name": "stderr",
     "output_type": "stream",
     "text": [
      "2021-05-08 09:27:25 Hail: WARN: export_vcf: ignored the following fields:\n",
      "    'AB_count' (row)\n",
      "    'variant_qc' (row)\n",
      "2021-05-08 09:27:38 Hail: INFO: Coerced almost-sorted dataset\n",
      "2021-05-08 09:38:02 Hail: INFO: merging 71 files totalling 9.8G...\n",
      "2021-05-08 09:38:23 Hail: INFO: while writing:\n",
      "    ../../pvcfQC/3_hail_qc/ukb23156_c5_b28_v1.qc.norm.vcf.bgz\n",
      "  merge time: 21.456s\n"
     ]
    }
   ],
   "source": [
    "mt = hl.import_vcf(inVCF, min_partitions=4, reference_genome='GRCh38', array_elements_required=False, force_bgz=True)\n",
    "n = mt.count()\n",
    "n_var0 = n[0]\n",
    "print(n)\n",
    "# Genotype quality control\n",
    "## Set filter condition for AB\n",
    "mt = mt.annotate_entries(AB = (mt.AD[1] / hl.sum(mt.AD)))\n",
    "filter_condition_ab = ((mt.GT.is_hom_ref() & (mt.AB <= 0.1)) | (mt.GT.is_het() & (mt.AB >= 0.2) & (mt.AB <= 0.8)) | (mt.GT.is_hom_var() & (mt.AB >= 0.9)))\n",
    "filter_condition = (mt.GQ >= 20) & (mt.DP >= 10) & filter_condition_ab\n",
    "fraction_filtered = mt.aggregate_entries(hl.agg.fraction(~filter_condition))\n",
    "print(f'>{fraction_filtered * 100:.2f}% entries filtered out of downstream analysis.')\n",
    "mt = mt.filter_entries(filter_condition)\n",
    "## Add frac of samples passing AB threshold per row\n",
    "mt = mt.annotate_rows(AB_count = hl.agg.count_where((mt.GT.is_het() & (mt.AB >= 0.2) & (mt.AB <= 0.8))))\n",
    "\n",
    "# Variant quality control\n",
    "mt = hl.variant_qc(mt)\n",
    "mt = mt.filter_rows((mt.AB_count > 0) & (mt.variant_qc.call_rate >= 0.9) & (mt.variant_qc.p_value_hwe >= 1e-15))\n",
    "\n",
    "n = mt.count()\n",
    "n_var1 = n[0]\n",
    "print(f'variantsPASS,{outVCF},{n_var1},{n_var0}')\n",
    "\n",
    "mt = mt.annotate_rows(info = mt.info.annotate(AF=mt.variant_qc.AF[1]))\n",
    "hl.export_vcf(mt, outVCF)"
   ]
  },
  {
   "cell_type": "code",
   "execution_count": null,
   "id": "e570cb51-0b8c-4fb5-a146-12f02a3a0f2b",
   "metadata": {},
   "outputs": [],
   "source": []
  }
 ],
 "metadata": {
  "kernelspec": {
   "display_name": "Python 3",
   "language": "python",
   "name": "python3"
  },
  "language_info": {
   "codemirror_mode": {
    "name": "ipython",
    "version": 3
   },
   "file_extension": ".py",
   "mimetype": "text/x-python",
   "name": "python",
   "nbconvert_exporter": "python",
   "pygments_lexer": "ipython3",
   "version": "3.7.10"
  }
 },
 "nbformat": 4,
 "nbformat_minor": 5
}
