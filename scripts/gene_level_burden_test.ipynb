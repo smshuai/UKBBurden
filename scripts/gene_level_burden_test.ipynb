{
 "cells": [
  {
   "cell_type": "code",
   "execution_count": 40,
   "id": "74e4628c-610f-47ed-8d4e-12f70122d823",
   "metadata": {},
   "outputs": [],
   "source": [
    "library(data.table)"
   ]
  },
  {
   "cell_type": "code",
   "execution_count": 56,
   "id": "8db6343b-b2c1-4c5c-bb95-cf2b2caceaf4",
   "metadata": {},
   "outputs": [],
   "source": [
    "covar <- fread('/nfs/research/birney/projects/association/gene_burden/covariates//ukbb_200k_covar_v1.csv')\n",
    "geno <- fread('/nfs/research/birney/users/shimin/ukbb/wes/200k/gene_modules/data/module_burden_m1_a1.tsv', header=T)\n",
    "pheno <- fread('/nfs/research/birney/users/tomas/gene_modules/cleaned_and_linked_phenotypes/asthma_icd10_J45_EFO_0000270-2_7.txt', header=T, col.names = c('eid', 'y'))\n",
    "dtype <- 'binary'"
   ]
  },
  {
   "cell_type": "code",
   "execution_count": 50,
   "id": "1af9282a-230a-4784-9fe9-9ec21d5023d9",
   "metadata": {},
   "outputs": [
    {
     "name": "stdout",
     "output_type": "stream",
     "text": [
      "[1] 200643\n"
     ]
    }
   ],
   "source": [
    "geno2 <- fread('/nfs/research/birney/projects/association/gene_burden/genotypes/mask1_pLoF_canonical_rare_v1/ukb23156.mask1.c22.gene_burden.tsv', header=T)\n",
    "\n",
    "print(length(intersect(colnames(geno), colnames(geno2))))"
   ]
  },
  {
   "cell_type": "code",
   "execution_count": 57,
   "id": "7d65bdf3-7537-4581-96fa-15384a46d478",
   "metadata": {},
   "outputs": [
    {
     "data": {
      "text/html": [
       "<table class=\"dataframe\">\n",
       "<caption>A data.table: 6 × 18</caption>\n",
       "<thead>\n",
       "\t<tr><th scope=col>eid</th><th scope=col>y</th><th scope=col>batch</th><th scope=col>sex</th><th scope=col>age</th><th scope=col>f.22009.0.1</th><th scope=col>f.22009.0.2</th><th scope=col>f.22009.0.3</th><th scope=col>f.22009.0.4</th><th scope=col>f.22009.0.5</th><th scope=col>f.22009.0.6</th><th scope=col>f.22009.0.7</th><th scope=col>f.22009.0.8</th><th scope=col>f.22009.0.9</th><th scope=col>f.22009.0.10</th><th scope=col>age2</th><th scope=col>sex_age</th><th scope=col>sex_age2</th></tr>\n",
       "\t<tr><th scope=col>&lt;chr&gt;</th><th scope=col>&lt;int&gt;</th><th scope=col>&lt;int&gt;</th><th scope=col>&lt;int&gt;</th><th scope=col>&lt;int&gt;</th><th scope=col>&lt;dbl&gt;</th><th scope=col>&lt;dbl&gt;</th><th scope=col>&lt;dbl&gt;</th><th scope=col>&lt;dbl&gt;</th><th scope=col>&lt;dbl&gt;</th><th scope=col>&lt;dbl&gt;</th><th scope=col>&lt;dbl&gt;</th><th scope=col>&lt;dbl&gt;</th><th scope=col>&lt;dbl&gt;</th><th scope=col>&lt;dbl&gt;</th><th scope=col>&lt;int&gt;</th><th scope=col>&lt;int&gt;</th><th scope=col>&lt;int&gt;</th></tr>\n",
       "</thead>\n",
       "<tbody>\n",
       "\t<tr><td>1000040</td><td>1</td><td>1</td><td>1</td><td>62</td><td>-11.1732</td><td>5.37414</td><td>-1.76331</td><td> 0.999203</td><td>-4.46673</td><td>-0.915626</td><td> 1.4250400</td><td>-0.900987</td><td>-1.205530</td><td> 3.360040</td><td>3844</td><td>62</td><td>3844</td></tr>\n",
       "\t<tr><td>1000071</td><td>0</td><td>1</td><td>1</td><td>54</td><td>-13.8896</td><td>4.77904</td><td>-4.00437</td><td> 4.648340</td><td> 4.32980</td><td> 2.237950</td><td> 0.8034460</td><td> 3.650780</td><td>-2.878140</td><td> 0.260571</td><td>2916</td><td>54</td><td>2916</td></tr>\n",
       "\t<tr><td>1000088</td><td>0</td><td>0</td><td>0</td><td>68</td><td>-13.2771</td><td>7.10413</td><td>-3.61512</td><td> 3.301260</td><td> 3.54118</td><td>-0.453903</td><td> 0.7269860</td><td> 0.601553</td><td> 5.994300</td><td> 0.464687</td><td>4624</td><td> 0</td><td>   0</td></tr>\n",
       "\t<tr><td>1000109</td><td>0</td><td>1</td><td>0</td><td>50</td><td>-11.1648</td><td>2.79825</td><td>-3.87874</td><td> 5.902440</td><td>-3.77853</td><td> 1.589280</td><td>-2.3361400</td><td>-1.153620</td><td> 3.806320</td><td> 0.348935</td><td>2500</td><td> 0</td><td>   0</td></tr>\n",
       "\t<tr><td>1000132</td><td>0</td><td>1</td><td>1</td><td>58</td><td>-14.5572</td><td>3.55023</td><td> 2.60868</td><td>-0.323878</td><td>-4.78660</td><td>-2.834320</td><td>-1.5133600</td><td> 1.255380</td><td> 3.187980</td><td>-0.502443</td><td>3364</td><td>58</td><td>3364</td></tr>\n",
       "\t<tr><td>1000241</td><td>0</td><td>0</td><td>0</td><td>43</td><td>-13.7094</td><td>4.50956</td><td>-2.27556</td><td> 4.316810</td><td>-1.14060</td><td> 0.995365</td><td> 0.0948874</td><td>-0.994825</td><td> 0.685751</td><td> 1.681580</td><td>1849</td><td> 0</td><td>   0</td></tr>\n",
       "</tbody>\n",
       "</table>\n"
      ],
      "text/latex": [
       "A data.table: 6 × 18\n",
       "\\begin{tabular}{llllllllllllllllll}\n",
       " eid & y & batch & sex & age & f.22009.0.1 & f.22009.0.2 & f.22009.0.3 & f.22009.0.4 & f.22009.0.5 & f.22009.0.6 & f.22009.0.7 & f.22009.0.8 & f.22009.0.9 & f.22009.0.10 & age2 & sex\\_age & sex\\_age2\\\\\n",
       " <chr> & <int> & <int> & <int> & <int> & <dbl> & <dbl> & <dbl> & <dbl> & <dbl> & <dbl> & <dbl> & <dbl> & <dbl> & <dbl> & <int> & <int> & <int>\\\\\n",
       "\\hline\n",
       "\t 1000040 & 1 & 1 & 1 & 62 & -11.1732 & 5.37414 & -1.76331 &  0.999203 & -4.46673 & -0.915626 &  1.4250400 & -0.900987 & -1.205530 &  3.360040 & 3844 & 62 & 3844\\\\\n",
       "\t 1000071 & 0 & 1 & 1 & 54 & -13.8896 & 4.77904 & -4.00437 &  4.648340 &  4.32980 &  2.237950 &  0.8034460 &  3.650780 & -2.878140 &  0.260571 & 2916 & 54 & 2916\\\\\n",
       "\t 1000088 & 0 & 0 & 0 & 68 & -13.2771 & 7.10413 & -3.61512 &  3.301260 &  3.54118 & -0.453903 &  0.7269860 &  0.601553 &  5.994300 &  0.464687 & 4624 &  0 &    0\\\\\n",
       "\t 1000109 & 0 & 1 & 0 & 50 & -11.1648 & 2.79825 & -3.87874 &  5.902440 & -3.77853 &  1.589280 & -2.3361400 & -1.153620 &  3.806320 &  0.348935 & 2500 &  0 &    0\\\\\n",
       "\t 1000132 & 0 & 1 & 1 & 58 & -14.5572 & 3.55023 &  2.60868 & -0.323878 & -4.78660 & -2.834320 & -1.5133600 &  1.255380 &  3.187980 & -0.502443 & 3364 & 58 & 3364\\\\\n",
       "\t 1000241 & 0 & 0 & 0 & 43 & -13.7094 & 4.50956 & -2.27556 &  4.316810 & -1.14060 &  0.995365 &  0.0948874 & -0.994825 &  0.685751 &  1.681580 & 1849 &  0 &    0\\\\\n",
       "\\end{tabular}\n"
      ],
      "text/markdown": [
       "\n",
       "A data.table: 6 × 18\n",
       "\n",
       "| eid &lt;chr&gt; | y &lt;int&gt; | batch &lt;int&gt; | sex &lt;int&gt; | age &lt;int&gt; | f.22009.0.1 &lt;dbl&gt; | f.22009.0.2 &lt;dbl&gt; | f.22009.0.3 &lt;dbl&gt; | f.22009.0.4 &lt;dbl&gt; | f.22009.0.5 &lt;dbl&gt; | f.22009.0.6 &lt;dbl&gt; | f.22009.0.7 &lt;dbl&gt; | f.22009.0.8 &lt;dbl&gt; | f.22009.0.9 &lt;dbl&gt; | f.22009.0.10 &lt;dbl&gt; | age2 &lt;int&gt; | sex_age &lt;int&gt; | sex_age2 &lt;int&gt; |\n",
       "|---|---|---|---|---|---|---|---|---|---|---|---|---|---|---|---|---|---|\n",
       "| 1000040 | 1 | 1 | 1 | 62 | -11.1732 | 5.37414 | -1.76331 |  0.999203 | -4.46673 | -0.915626 |  1.4250400 | -0.900987 | -1.205530 |  3.360040 | 3844 | 62 | 3844 |\n",
       "| 1000071 | 0 | 1 | 1 | 54 | -13.8896 | 4.77904 | -4.00437 |  4.648340 |  4.32980 |  2.237950 |  0.8034460 |  3.650780 | -2.878140 |  0.260571 | 2916 | 54 | 2916 |\n",
       "| 1000088 | 0 | 0 | 0 | 68 | -13.2771 | 7.10413 | -3.61512 |  3.301260 |  3.54118 | -0.453903 |  0.7269860 |  0.601553 |  5.994300 |  0.464687 | 4624 |  0 |    0 |\n",
       "| 1000109 | 0 | 1 | 0 | 50 | -11.1648 | 2.79825 | -3.87874 |  5.902440 | -3.77853 |  1.589280 | -2.3361400 | -1.153620 |  3.806320 |  0.348935 | 2500 |  0 |    0 |\n",
       "| 1000132 | 0 | 1 | 1 | 58 | -14.5572 | 3.55023 |  2.60868 | -0.323878 | -4.78660 | -2.834320 | -1.5133600 |  1.255380 |  3.187980 | -0.502443 | 3364 | 58 | 3364 |\n",
       "| 1000241 | 0 | 0 | 0 | 43 | -13.7094 | 4.50956 | -2.27556 |  4.316810 | -1.14060 |  0.995365 |  0.0948874 | -0.994825 |  0.685751 |  1.681580 | 1849 |  0 |    0 |\n",
       "\n"
      ],
      "text/plain": [
       "  eid     y batch sex age f.22009.0.1 f.22009.0.2 f.22009.0.3 f.22009.0.4\n",
       "1 1000040 1 1     1   62  -11.1732    5.37414     -1.76331     0.999203  \n",
       "2 1000071 0 1     1   54  -13.8896    4.77904     -4.00437     4.648340  \n",
       "3 1000088 0 0     0   68  -13.2771    7.10413     -3.61512     3.301260  \n",
       "4 1000109 0 1     0   50  -11.1648    2.79825     -3.87874     5.902440  \n",
       "5 1000132 0 1     1   58  -14.5572    3.55023      2.60868    -0.323878  \n",
       "6 1000241 0 0     0   43  -13.7094    4.50956     -2.27556     4.316810  \n",
       "  f.22009.0.5 f.22009.0.6 f.22009.0.7 f.22009.0.8 f.22009.0.9 f.22009.0.10 age2\n",
       "1 -4.46673    -0.915626    1.4250400  -0.900987   -1.205530    3.360040    3844\n",
       "2  4.32980     2.237950    0.8034460   3.650780   -2.878140    0.260571    2916\n",
       "3  3.54118    -0.453903    0.7269860   0.601553    5.994300    0.464687    4624\n",
       "4 -3.77853     1.589280   -2.3361400  -1.153620    3.806320    0.348935    2500\n",
       "5 -4.78660    -2.834320   -1.5133600   1.255380    3.187980   -0.502443    3364\n",
       "6 -1.14060     0.995365    0.0948874  -0.994825    0.685751    1.681580    1849\n",
       "  sex_age sex_age2\n",
       "1 62      3844    \n",
       "2 54      2916    \n",
       "3  0         0    \n",
       "4  0         0    \n",
       "5 58      3364    \n",
       "6  0         0    "
      ]
     },
     "metadata": {},
     "output_type": "display_data"
    }
   ],
   "source": [
    "pheno <- merge(pheno, covar, by='eid')\n",
    "pheno[, eid:=as.character(eid)]\n",
    "setkey(pheno, eid)\n",
    "head(pheno)"
   ]
  },
  {
   "cell_type": "code",
   "execution_count": 58,
   "id": "9eccf97d-3705-414c-aa11-172172c26998",
   "metadata": {},
   "outputs": [
    {
     "name": "stdout",
     "output_type": "stream",
     "text": [
      "[1] 197099\n"
     ]
    }
   ],
   "source": [
    "keep <- intersect(pheno$eid, colnames(geno))\n",
    "print(length(keep))"
   ]
  },
  {
   "cell_type": "code",
   "execution_count": 59,
   "id": "4de41219-0506-444c-be25-2a80f4f2a61f",
   "metadata": {},
   "outputs": [
    {
     "data": {
      "text/html": [
       "<style>\n",
       ".list-inline {list-style: none; margin:0; padding: 0}\n",
       ".list-inline>li {display: inline-block}\n",
       ".list-inline>li:not(:last-child)::after {content: \"\\00b7\"; padding: 0 .5ex}\n",
       "</style>\n",
       "<ol class=list-inline><li>197099</li><li>18</li></ol>\n"
      ],
      "text/latex": [
       "\\begin{enumerate*}\n",
       "\\item 197099\n",
       "\\item 18\n",
       "\\end{enumerate*}\n"
      ],
      "text/markdown": [
       "1. 197099\n",
       "2. 18\n",
       "\n",
       "\n"
      ],
      "text/plain": [
       "[1] 197099     18"
      ]
     },
     "metadata": {},
     "output_type": "display_data"
    },
    {
     "data": {
      "text/html": [
       "<table class=\"dataframe\">\n",
       "<caption>A data.table: 6 × 18</caption>\n",
       "<thead>\n",
       "\t<tr><th scope=col>eid</th><th scope=col>y</th><th scope=col>batch</th><th scope=col>sex</th><th scope=col>age</th><th scope=col>f.22009.0.1</th><th scope=col>f.22009.0.2</th><th scope=col>f.22009.0.3</th><th scope=col>f.22009.0.4</th><th scope=col>f.22009.0.5</th><th scope=col>f.22009.0.6</th><th scope=col>f.22009.0.7</th><th scope=col>f.22009.0.8</th><th scope=col>f.22009.0.9</th><th scope=col>f.22009.0.10</th><th scope=col>age2</th><th scope=col>sex_age</th><th scope=col>sex_age2</th></tr>\n",
       "\t<tr><th scope=col>&lt;chr&gt;</th><th scope=col>&lt;int&gt;</th><th scope=col>&lt;int&gt;</th><th scope=col>&lt;int&gt;</th><th scope=col>&lt;int&gt;</th><th scope=col>&lt;dbl&gt;</th><th scope=col>&lt;dbl&gt;</th><th scope=col>&lt;dbl&gt;</th><th scope=col>&lt;dbl&gt;</th><th scope=col>&lt;dbl&gt;</th><th scope=col>&lt;dbl&gt;</th><th scope=col>&lt;dbl&gt;</th><th scope=col>&lt;dbl&gt;</th><th scope=col>&lt;dbl&gt;</th><th scope=col>&lt;dbl&gt;</th><th scope=col>&lt;int&gt;</th><th scope=col>&lt;int&gt;</th><th scope=col>&lt;int&gt;</th></tr>\n",
       "</thead>\n",
       "<tbody>\n",
       "\t<tr><td>1000040</td><td>1</td><td>1</td><td>1</td><td>62</td><td>-11.1732</td><td>5.37414</td><td>-1.76331</td><td> 0.999203</td><td>-4.46673</td><td>-0.915626</td><td> 1.4250400</td><td>-0.900987</td><td>-1.205530</td><td> 3.360040</td><td>3844</td><td>62</td><td>3844</td></tr>\n",
       "\t<tr><td>1000071</td><td>0</td><td>1</td><td>1</td><td>54</td><td>-13.8896</td><td>4.77904</td><td>-4.00437</td><td> 4.648340</td><td> 4.32980</td><td> 2.237950</td><td> 0.8034460</td><td> 3.650780</td><td>-2.878140</td><td> 0.260571</td><td>2916</td><td>54</td><td>2916</td></tr>\n",
       "\t<tr><td>1000088</td><td>0</td><td>0</td><td>0</td><td>68</td><td>-13.2771</td><td>7.10413</td><td>-3.61512</td><td> 3.301260</td><td> 3.54118</td><td>-0.453903</td><td> 0.7269860</td><td> 0.601553</td><td> 5.994300</td><td> 0.464687</td><td>4624</td><td> 0</td><td>   0</td></tr>\n",
       "\t<tr><td>1000109</td><td>0</td><td>1</td><td>0</td><td>50</td><td>-11.1648</td><td>2.79825</td><td>-3.87874</td><td> 5.902440</td><td>-3.77853</td><td> 1.589280</td><td>-2.3361400</td><td>-1.153620</td><td> 3.806320</td><td> 0.348935</td><td>2500</td><td> 0</td><td>   0</td></tr>\n",
       "\t<tr><td>1000132</td><td>0</td><td>1</td><td>1</td><td>58</td><td>-14.5572</td><td>3.55023</td><td> 2.60868</td><td>-0.323878</td><td>-4.78660</td><td>-2.834320</td><td>-1.5133600</td><td> 1.255380</td><td> 3.187980</td><td>-0.502443</td><td>3364</td><td>58</td><td>3364</td></tr>\n",
       "\t<tr><td>1000241</td><td>0</td><td>0</td><td>0</td><td>43</td><td>-13.7094</td><td>4.50956</td><td>-2.27556</td><td> 4.316810</td><td>-1.14060</td><td> 0.995365</td><td> 0.0948874</td><td>-0.994825</td><td> 0.685751</td><td> 1.681580</td><td>1849</td><td> 0</td><td>   0</td></tr>\n",
       "</tbody>\n",
       "</table>\n"
      ],
      "text/latex": [
       "A data.table: 6 × 18\n",
       "\\begin{tabular}{llllllllllllllllll}\n",
       " eid & y & batch & sex & age & f.22009.0.1 & f.22009.0.2 & f.22009.0.3 & f.22009.0.4 & f.22009.0.5 & f.22009.0.6 & f.22009.0.7 & f.22009.0.8 & f.22009.0.9 & f.22009.0.10 & age2 & sex\\_age & sex\\_age2\\\\\n",
       " <chr> & <int> & <int> & <int> & <int> & <dbl> & <dbl> & <dbl> & <dbl> & <dbl> & <dbl> & <dbl> & <dbl> & <dbl> & <dbl> & <int> & <int> & <int>\\\\\n",
       "\\hline\n",
       "\t 1000040 & 1 & 1 & 1 & 62 & -11.1732 & 5.37414 & -1.76331 &  0.999203 & -4.46673 & -0.915626 &  1.4250400 & -0.900987 & -1.205530 &  3.360040 & 3844 & 62 & 3844\\\\\n",
       "\t 1000071 & 0 & 1 & 1 & 54 & -13.8896 & 4.77904 & -4.00437 &  4.648340 &  4.32980 &  2.237950 &  0.8034460 &  3.650780 & -2.878140 &  0.260571 & 2916 & 54 & 2916\\\\\n",
       "\t 1000088 & 0 & 0 & 0 & 68 & -13.2771 & 7.10413 & -3.61512 &  3.301260 &  3.54118 & -0.453903 &  0.7269860 &  0.601553 &  5.994300 &  0.464687 & 4624 &  0 &    0\\\\\n",
       "\t 1000109 & 0 & 1 & 0 & 50 & -11.1648 & 2.79825 & -3.87874 &  5.902440 & -3.77853 &  1.589280 & -2.3361400 & -1.153620 &  3.806320 &  0.348935 & 2500 &  0 &    0\\\\\n",
       "\t 1000132 & 0 & 1 & 1 & 58 & -14.5572 & 3.55023 &  2.60868 & -0.323878 & -4.78660 & -2.834320 & -1.5133600 &  1.255380 &  3.187980 & -0.502443 & 3364 & 58 & 3364\\\\\n",
       "\t 1000241 & 0 & 0 & 0 & 43 & -13.7094 & 4.50956 & -2.27556 &  4.316810 & -1.14060 &  0.995365 &  0.0948874 & -0.994825 &  0.685751 &  1.681580 & 1849 &  0 &    0\\\\\n",
       "\\end{tabular}\n"
      ],
      "text/markdown": [
       "\n",
       "A data.table: 6 × 18\n",
       "\n",
       "| eid &lt;chr&gt; | y &lt;int&gt; | batch &lt;int&gt; | sex &lt;int&gt; | age &lt;int&gt; | f.22009.0.1 &lt;dbl&gt; | f.22009.0.2 &lt;dbl&gt; | f.22009.0.3 &lt;dbl&gt; | f.22009.0.4 &lt;dbl&gt; | f.22009.0.5 &lt;dbl&gt; | f.22009.0.6 &lt;dbl&gt; | f.22009.0.7 &lt;dbl&gt; | f.22009.0.8 &lt;dbl&gt; | f.22009.0.9 &lt;dbl&gt; | f.22009.0.10 &lt;dbl&gt; | age2 &lt;int&gt; | sex_age &lt;int&gt; | sex_age2 &lt;int&gt; |\n",
       "|---|---|---|---|---|---|---|---|---|---|---|---|---|---|---|---|---|---|\n",
       "| 1000040 | 1 | 1 | 1 | 62 | -11.1732 | 5.37414 | -1.76331 |  0.999203 | -4.46673 | -0.915626 |  1.4250400 | -0.900987 | -1.205530 |  3.360040 | 3844 | 62 | 3844 |\n",
       "| 1000071 | 0 | 1 | 1 | 54 | -13.8896 | 4.77904 | -4.00437 |  4.648340 |  4.32980 |  2.237950 |  0.8034460 |  3.650780 | -2.878140 |  0.260571 | 2916 | 54 | 2916 |\n",
       "| 1000088 | 0 | 0 | 0 | 68 | -13.2771 | 7.10413 | -3.61512 |  3.301260 |  3.54118 | -0.453903 |  0.7269860 |  0.601553 |  5.994300 |  0.464687 | 4624 |  0 |    0 |\n",
       "| 1000109 | 0 | 1 | 0 | 50 | -11.1648 | 2.79825 | -3.87874 |  5.902440 | -3.77853 |  1.589280 | -2.3361400 | -1.153620 |  3.806320 |  0.348935 | 2500 |  0 |    0 |\n",
       "| 1000132 | 0 | 1 | 1 | 58 | -14.5572 | 3.55023 |  2.60868 | -0.323878 | -4.78660 | -2.834320 | -1.5133600 |  1.255380 |  3.187980 | -0.502443 | 3364 | 58 | 3364 |\n",
       "| 1000241 | 0 | 0 | 0 | 43 | -13.7094 | 4.50956 | -2.27556 |  4.316810 | -1.14060 |  0.995365 |  0.0948874 | -0.994825 |  0.685751 |  1.681580 | 1849 |  0 |    0 |\n",
       "\n"
      ],
      "text/plain": [
       "  eid     y batch sex age f.22009.0.1 f.22009.0.2 f.22009.0.3 f.22009.0.4\n",
       "1 1000040 1 1     1   62  -11.1732    5.37414     -1.76331     0.999203  \n",
       "2 1000071 0 1     1   54  -13.8896    4.77904     -4.00437     4.648340  \n",
       "3 1000088 0 0     0   68  -13.2771    7.10413     -3.61512     3.301260  \n",
       "4 1000109 0 1     0   50  -11.1648    2.79825     -3.87874     5.902440  \n",
       "5 1000132 0 1     1   58  -14.5572    3.55023      2.60868    -0.323878  \n",
       "6 1000241 0 0     0   43  -13.7094    4.50956     -2.27556     4.316810  \n",
       "  f.22009.0.5 f.22009.0.6 f.22009.0.7 f.22009.0.8 f.22009.0.9 f.22009.0.10 age2\n",
       "1 -4.46673    -0.915626    1.4250400  -0.900987   -1.205530    3.360040    3844\n",
       "2  4.32980     2.237950    0.8034460   3.650780   -2.878140    0.260571    2916\n",
       "3  3.54118    -0.453903    0.7269860   0.601553    5.994300    0.464687    4624\n",
       "4 -3.77853     1.589280   -2.3361400  -1.153620    3.806320    0.348935    2500\n",
       "5 -4.78660    -2.834320   -1.5133600   1.255380    3.187980   -0.502443    3364\n",
       "6 -1.14060     0.995365    0.0948874  -0.994825    0.685751    1.681580    1849\n",
       "  sex_age sex_age2\n",
       "1 62      3844    \n",
       "2 54      2916    \n",
       "3  0         0    \n",
       "4  0         0    \n",
       "5 58      3364    \n",
       "6  0         0    "
      ]
     },
     "metadata": {},
     "output_type": "display_data"
    }
   ],
   "source": [
    "pheno <- pheno[keep, ]\n",
    "dim(pheno)\n",
    "head(pheno)"
   ]
  },
  {
   "cell_type": "code",
   "execution_count": 60,
   "id": "54365e03-5cb3-4339-903e-7fcad9b938b9",
   "metadata": {},
   "outputs": [
    {
     "data": {
      "text/html": [
       "<style>\n",
       ".list-inline {list-style: none; margin:0; padding: 0}\n",
       ".list-inline>li {display: inline-block}\n",
       ".list-inline>li:not(:last-child)::after {content: \"\\00b7\"; padding: 0 .5ex}\n",
       "</style>\n",
       "<ol class=list-inline><li>152</li><li>197099</li></ol>\n"
      ],
      "text/latex": [
       "\\begin{enumerate*}\n",
       "\\item 152\n",
       "\\item 197099\n",
       "\\end{enumerate*}\n"
      ],
      "text/markdown": [
       "1. 152\n",
       "2. 197099\n",
       "\n",
       "\n"
      ],
      "text/plain": [
       "[1]    152 197099"
      ]
     },
     "metadata": {},
     "output_type": "display_data"
    }
   ],
   "source": [
    "geno_keep = as.matrix(geno[, -1])[,keep]\n",
    "rownames(geno_keep) <- geno$Gene\n",
    "dim(geno_keep)"
   ]
  },
  {
   "cell_type": "code",
   "execution_count": 61,
   "id": "e8b5b351-81b9-4b42-a8d7-49240a9a41c0",
   "metadata": {},
   "outputs": [],
   "source": [
    "res <- matrix(NA, nrow=nrow(geno), ncol=4, dimnames = list(rownames(geno_keep), c('est', 'stderr', 'tval', 'pval')))\n",
    "# loop over genes\n",
    "for (g in geno$Gene) {\n",
    "    pheno[, x:=geno_keep[g, ]]\n",
    "    if (dtype == 'quant') fit <- lm(data = pheno[, -1], formula = y ~ .)\n",
    "    if (dtype == 'binary') fit <- glm(data = pheno[, -1], formula = y ~ ., family = 'binomial')\n",
    "    coef_tb <- coef(summary(fit))\n",
    "    if ('x' %in% rownames(coef_tb)) res[g,] <- coef_tb['x', ]\n",
    "}"
   ]
  },
  {
   "cell_type": "code",
   "execution_count": 18,
   "id": "47f92101-8e9e-4638-8406-06e8736a9a46",
   "metadata": {},
   "outputs": [],
   "source": [
    "fwrite(as.data.table(res, keep.rownames=T), 'res.tsv', sep='\\t')\n"
   ]
  },
  {
   "cell_type": "code",
   "execution_count": 36,
   "id": "b0dccefd-1f0f-4353-bdb7-56d87073a38c",
   "metadata": {},
   "outputs": [
    {
     "data": {
      "text/html": [
       "<table class=\"dataframe\">\n",
       "<caption>A matrix: 17 × 4 of type dbl</caption>\n",
       "<thead>\n",
       "\t<tr><th></th><th scope=col>Estimate</th><th scope=col>Std. Error</th><th scope=col>t value</th><th scope=col>Pr(&gt;|t|)</th></tr>\n",
       "</thead>\n",
       "<tbody>\n",
       "\t<tr><th scope=row>(Intercept)</th><td> 0.4237784938</td><td>8.223788e-02</td><td>  5.1530814</td><td>2.564870e-07</td></tr>\n",
       "\t<tr><th scope=row>batch</th><td> 0.0185021664</td><td>2.892814e-03</td><td>  6.3959058</td><td>1.599539e-10</td></tr>\n",
       "\t<tr><th scope=row>sex</th><td> 0.6040328847</td><td>1.215396e-01</td><td>  4.9698455</td><td>6.706228e-07</td></tr>\n",
       "\t<tr><th scope=row>age</th><td>-0.0180045535</td><td>3.022942e-03</td><td> -5.9559711</td><td>2.589680e-09</td></tr>\n",
       "\t<tr><th scope=row>f.22009.0.1</th><td>-0.0002704239</td><td>2.299307e-05</td><td>-11.7611032</td><td>6.346258e-32</td></tr>\n",
       "\t<tr><th scope=row>f.22009.0.2</th><td> 0.0003753333</td><td>4.341992e-05</td><td>  8.6442659</td><td>5.454743e-18</td></tr>\n",
       "\t<tr><th scope=row>f.22009.0.3</th><td>-0.0005223554</td><td>8.099107e-05</td><td> -6.4495431</td><td>1.124461e-10</td></tr>\n",
       "\t<tr><th scope=row>f.22009.0.4</th><td> 0.0003242084</td><td>1.188198e-04</td><td>  2.7285728</td><td>6.361469e-03</td></tr>\n",
       "\t<tr><th scope=row>f.22009.0.5</th><td> 0.0006797330</td><td>1.663922e-04</td><td>  4.0851246</td><td>4.407057e-05</td></tr>\n",
       "\t<tr><th scope=row>f.22009.0.6</th><td>-0.0004970257</td><td>2.446757e-04</td><td> -2.0313652</td><td>4.221931e-02</td></tr>\n",
       "\t<tr><th scope=row>f.22009.0.7</th><td>-0.0003250514</td><td>2.492311e-04</td><td> -1.3042169</td><td>1.921612e-01</td></tr>\n",
       "\t<tr><th scope=row>f.22009.0.8</th><td>-0.0006448185</td><td>2.563732e-04</td><td> -2.5151553</td><td>1.189878e-02</td></tr>\n",
       "\t<tr><th scope=row>f.22009.0.9</th><td>-0.0005954910</td><td>2.854485e-04</td><td> -2.0861588</td><td>3.696552e-02</td></tr>\n",
       "\t<tr><th scope=row>f.22009.0.10</th><td> 0.0001404427</td><td>2.948920e-04</td><td>  0.4762515</td><td>6.338958e-01</td></tr>\n",
       "\t<tr><th scope=row>age2</th><td> 0.0002540486</td><td>2.735427e-05</td><td>  9.2873477</td><td>1.597150e-20</td></tr>\n",
       "\t<tr><th scope=row>sex_age</th><td>-0.0290630229</td><td>4.467192e-03</td><td> -6.5058821</td><td>7.742275e-11</td></tr>\n",
       "\t<tr><th scope=row>sex_age2</th><td> 0.0003056194</td><td>4.037387e-05</td><td>  7.5697329</td><td>3.756072e-14</td></tr>\n",
       "</tbody>\n",
       "</table>\n"
      ],
      "text/latex": [
       "A matrix: 17 × 4 of type dbl\n",
       "\\begin{tabular}{r|llll}\n",
       "  & Estimate & Std. Error & t value & Pr(>\\textbar{}t\\textbar{})\\\\\n",
       "\\hline\n",
       "\t(Intercept) &  0.4237784938 & 8.223788e-02 &   5.1530814 & 2.564870e-07\\\\\n",
       "\tbatch &  0.0185021664 & 2.892814e-03 &   6.3959058 & 1.599539e-10\\\\\n",
       "\tsex &  0.6040328847 & 1.215396e-01 &   4.9698455 & 6.706228e-07\\\\\n",
       "\tage & -0.0180045535 & 3.022942e-03 &  -5.9559711 & 2.589680e-09\\\\\n",
       "\tf.22009.0.1 & -0.0002704239 & 2.299307e-05 & -11.7611032 & 6.346258e-32\\\\\n",
       "\tf.22009.0.2 &  0.0003753333 & 4.341992e-05 &   8.6442659 & 5.454743e-18\\\\\n",
       "\tf.22009.0.3 & -0.0005223554 & 8.099107e-05 &  -6.4495431 & 1.124461e-10\\\\\n",
       "\tf.22009.0.4 &  0.0003242084 & 1.188198e-04 &   2.7285728 & 6.361469e-03\\\\\n",
       "\tf.22009.0.5 &  0.0006797330 & 1.663922e-04 &   4.0851246 & 4.407057e-05\\\\\n",
       "\tf.22009.0.6 & -0.0004970257 & 2.446757e-04 &  -2.0313652 & 4.221931e-02\\\\\n",
       "\tf.22009.0.7 & -0.0003250514 & 2.492311e-04 &  -1.3042169 & 1.921612e-01\\\\\n",
       "\tf.22009.0.8 & -0.0006448185 & 2.563732e-04 &  -2.5151553 & 1.189878e-02\\\\\n",
       "\tf.22009.0.9 & -0.0005954910 & 2.854485e-04 &  -2.0861588 & 3.696552e-02\\\\\n",
       "\tf.22009.0.10 &  0.0001404427 & 2.948920e-04 &   0.4762515 & 6.338958e-01\\\\\n",
       "\tage2 &  0.0002540486 & 2.735427e-05 &   9.2873477 & 1.597150e-20\\\\\n",
       "\tsex\\_age & -0.0290630229 & 4.467192e-03 &  -6.5058821 & 7.742275e-11\\\\\n",
       "\tsex\\_age2 &  0.0003056194 & 4.037387e-05 &   7.5697329 & 3.756072e-14\\\\\n",
       "\\end{tabular}\n"
      ],
      "text/markdown": [
       "\n",
       "A matrix: 17 × 4 of type dbl\n",
       "\n",
       "| <!--/--> | Estimate | Std. Error | t value | Pr(&gt;|t|) |\n",
       "|---|---|---|---|---|\n",
       "| (Intercept) |  0.4237784938 | 8.223788e-02 |   5.1530814 | 2.564870e-07 |\n",
       "| batch |  0.0185021664 | 2.892814e-03 |   6.3959058 | 1.599539e-10 |\n",
       "| sex |  0.6040328847 | 1.215396e-01 |   4.9698455 | 6.706228e-07 |\n",
       "| age | -0.0180045535 | 3.022942e-03 |  -5.9559711 | 2.589680e-09 |\n",
       "| f.22009.0.1 | -0.0002704239 | 2.299307e-05 | -11.7611032 | 6.346258e-32 |\n",
       "| f.22009.0.2 |  0.0003753333 | 4.341992e-05 |   8.6442659 | 5.454743e-18 |\n",
       "| f.22009.0.3 | -0.0005223554 | 8.099107e-05 |  -6.4495431 | 1.124461e-10 |\n",
       "| f.22009.0.4 |  0.0003242084 | 1.188198e-04 |   2.7285728 | 6.361469e-03 |\n",
       "| f.22009.0.5 |  0.0006797330 | 1.663922e-04 |   4.0851246 | 4.407057e-05 |\n",
       "| f.22009.0.6 | -0.0004970257 | 2.446757e-04 |  -2.0313652 | 4.221931e-02 |\n",
       "| f.22009.0.7 | -0.0003250514 | 2.492311e-04 |  -1.3042169 | 1.921612e-01 |\n",
       "| f.22009.0.8 | -0.0006448185 | 2.563732e-04 |  -2.5151553 | 1.189878e-02 |\n",
       "| f.22009.0.9 | -0.0005954910 | 2.854485e-04 |  -2.0861588 | 3.696552e-02 |\n",
       "| f.22009.0.10 |  0.0001404427 | 2.948920e-04 |   0.4762515 | 6.338958e-01 |\n",
       "| age2 |  0.0002540486 | 2.735427e-05 |   9.2873477 | 1.597150e-20 |\n",
       "| sex_age | -0.0290630229 | 4.467192e-03 |  -6.5058821 | 7.742275e-11 |\n",
       "| sex_age2 |  0.0003056194 | 4.037387e-05 |   7.5697329 | 3.756072e-14 |\n",
       "\n"
      ],
      "text/plain": [
       "             Estimate      Std. Error   t value     Pr(>|t|)    \n",
       "(Intercept)   0.4237784938 8.223788e-02   5.1530814 2.564870e-07\n",
       "batch         0.0185021664 2.892814e-03   6.3959058 1.599539e-10\n",
       "sex           0.6040328847 1.215396e-01   4.9698455 6.706228e-07\n",
       "age          -0.0180045535 3.022942e-03  -5.9559711 2.589680e-09\n",
       "f.22009.0.1  -0.0002704239 2.299307e-05 -11.7611032 6.346258e-32\n",
       "f.22009.0.2   0.0003753333 4.341992e-05   8.6442659 5.454743e-18\n",
       "f.22009.0.3  -0.0005223554 8.099107e-05  -6.4495431 1.124461e-10\n",
       "f.22009.0.4   0.0003242084 1.188198e-04   2.7285728 6.361469e-03\n",
       "f.22009.0.5   0.0006797330 1.663922e-04   4.0851246 4.407057e-05\n",
       "f.22009.0.6  -0.0004970257 2.446757e-04  -2.0313652 4.221931e-02\n",
       "f.22009.0.7  -0.0003250514 2.492311e-04  -1.3042169 1.921612e-01\n",
       "f.22009.0.8  -0.0006448185 2.563732e-04  -2.5151553 1.189878e-02\n",
       "f.22009.0.9  -0.0005954910 2.854485e-04  -2.0861588 3.696552e-02\n",
       "f.22009.0.10  0.0001404427 2.948920e-04   0.4762515 6.338958e-01\n",
       "age2          0.0002540486 2.735427e-05   9.2873477 1.597150e-20\n",
       "sex_age      -0.0290630229 4.467192e-03  -6.5058821 7.742275e-11\n",
       "sex_age2      0.0003056194 4.037387e-05   7.5697329 3.756072e-14"
      ]
     },
     "metadata": {},
     "output_type": "display_data"
    }
   ],
   "source": [
    "coef(summary(fit), complete = T)"
   ]
  },
  {
   "cell_type": "code",
   "execution_count": 25,
   "id": "cbbf6d0c-21a4-4951-a82d-d889d32cf971",
   "metadata": {},
   "outputs": [
    {
     "data": {
      "text/plain": [
       "\n",
       "     0      1      2      3      4      5      6      7      8     11     12 \n",
       "412725  67035  18078   3515    852    195     67     14      7      1      1 \n",
       "    17 \n",
       "     1 "
      ]
     },
     "metadata": {},
     "output_type": "display_data"
    }
   ],
   "source": [
    "pheno <- fread('/nfs/research/birney/users/tomas/gene_modules/cleaned_and_linked_phenotypes/cancer_ukb_f_id_40009_EFO_0000311-8.txt', header=T, col.names = c('eid', 'y'))\n",
    "table(pheno$y)"
   ]
  },
  {
   "cell_type": "code",
   "execution_count": 62,
   "id": "9c037cf2-5e3a-4075-8290-64a1847712aa",
   "metadata": {},
   "outputs": [],
   "source": []
  },
  {
   "cell_type": "code",
   "execution_count": 63,
   "id": "8461eed5-e289-414b-b325-710a2fee83e8",
   "metadata": {},
   "outputs": [
    {
     "data": {
      "text/html": [
       "<table class=\"dataframe\">\n",
       "<caption>A data.table: 10 × 10</caption>\n",
       "<thead>\n",
       "\t<tr><th scope=col>Gene</th><th scope=col>2232711</th><th scope=col>5433064</th><th scope=col>4840998</th><th scope=col>3657113</th><th scope=col>5827994</th><th scope=col>1977222</th><th scope=col>3621370</th><th scope=col>1679063</th><th scope=col>2735599</th></tr>\n",
       "\t<tr><th scope=col>&lt;chr&gt;</th><th scope=col>&lt;int&gt;</th><th scope=col>&lt;int&gt;</th><th scope=col>&lt;int&gt;</th><th scope=col>&lt;int&gt;</th><th scope=col>&lt;int&gt;</th><th scope=col>&lt;int&gt;</th><th scope=col>&lt;int&gt;</th><th scope=col>&lt;int&gt;</th><th scope=col>&lt;int&gt;</th></tr>\n",
       "</thead>\n",
       "<tbody>\n",
       "\t<tr><td>CHEBI_9150 </td><td>0</td><td>0</td><td>0</td><td>0</td><td>0</td><td>0</td><td>0</td><td>0</td><td>0</td></tr>\n",
       "\t<tr><td>EFO_0000270</td><td>0</td><td>0</td><td>0</td><td>0</td><td>0</td><td>0</td><td>0</td><td>0</td><td>0</td></tr>\n",
       "\t<tr><td>EFO_0000274</td><td>0</td><td>0</td><td>0</td><td>0</td><td>0</td><td>0</td><td>0</td><td>0</td><td>0</td></tr>\n",
       "\t<tr><td>EFO_0000305</td><td>0</td><td>0</td><td>0</td><td>0</td><td>0</td><td>0</td><td>0</td><td>0</td><td>0</td></tr>\n",
       "\t<tr><td>EFO_0000311</td><td>0</td><td>0</td><td>0</td><td>0</td><td>0</td><td>0</td><td>0</td><td>0</td><td>0</td></tr>\n",
       "\t<tr><td>EFO_0000378</td><td>0</td><td>0</td><td>0</td><td>0</td><td>1</td><td>0</td><td>0</td><td>0</td><td>0</td></tr>\n",
       "\t<tr><td>EFO_0000384</td><td>0</td><td>0</td><td>1</td><td>1</td><td>1</td><td>0</td><td>1</td><td>0</td><td>0</td></tr>\n",
       "\t<tr><td>EFO_0000676</td><td>0</td><td>0</td><td>0</td><td>0</td><td>0</td><td>0</td><td>1</td><td>0</td><td>0</td></tr>\n",
       "\t<tr><td>EFO_0000685</td><td>0</td><td>0</td><td>1</td><td>0</td><td>0</td><td>0</td><td>0</td><td>0</td><td>0</td></tr>\n",
       "\t<tr><td>EFO_0000712</td><td>0</td><td>0</td><td>0</td><td>0</td><td>0</td><td>0</td><td>0</td><td>0</td><td>0</td></tr>\n",
       "</tbody>\n",
       "</table>\n"
      ],
      "text/latex": [
       "A data.table: 10 × 10\n",
       "\\begin{tabular}{llllllllll}\n",
       " Gene & 2232711 & 5433064 & 4840998 & 3657113 & 5827994 & 1977222 & 3621370 & 1679063 & 2735599\\\\\n",
       " <chr> & <int> & <int> & <int> & <int> & <int> & <int> & <int> & <int> & <int>\\\\\n",
       "\\hline\n",
       "\t CHEBI\\_9150  & 0 & 0 & 0 & 0 & 0 & 0 & 0 & 0 & 0\\\\\n",
       "\t EFO\\_0000270 & 0 & 0 & 0 & 0 & 0 & 0 & 0 & 0 & 0\\\\\n",
       "\t EFO\\_0000274 & 0 & 0 & 0 & 0 & 0 & 0 & 0 & 0 & 0\\\\\n",
       "\t EFO\\_0000305 & 0 & 0 & 0 & 0 & 0 & 0 & 0 & 0 & 0\\\\\n",
       "\t EFO\\_0000311 & 0 & 0 & 0 & 0 & 0 & 0 & 0 & 0 & 0\\\\\n",
       "\t EFO\\_0000378 & 0 & 0 & 0 & 0 & 1 & 0 & 0 & 0 & 0\\\\\n",
       "\t EFO\\_0000384 & 0 & 0 & 1 & 1 & 1 & 0 & 1 & 0 & 0\\\\\n",
       "\t EFO\\_0000676 & 0 & 0 & 0 & 0 & 0 & 0 & 1 & 0 & 0\\\\\n",
       "\t EFO\\_0000685 & 0 & 0 & 1 & 0 & 0 & 0 & 0 & 0 & 0\\\\\n",
       "\t EFO\\_0000712 & 0 & 0 & 0 & 0 & 0 & 0 & 0 & 0 & 0\\\\\n",
       "\\end{tabular}\n"
      ],
      "text/markdown": [
       "\n",
       "A data.table: 10 × 10\n",
       "\n",
       "| Gene &lt;chr&gt; | 2232711 &lt;int&gt; | 5433064 &lt;int&gt; | 4840998 &lt;int&gt; | 3657113 &lt;int&gt; | 5827994 &lt;int&gt; | 1977222 &lt;int&gt; | 3621370 &lt;int&gt; | 1679063 &lt;int&gt; | 2735599 &lt;int&gt; |\n",
       "|---|---|---|---|---|---|---|---|---|---|\n",
       "| CHEBI_9150  | 0 | 0 | 0 | 0 | 0 | 0 | 0 | 0 | 0 |\n",
       "| EFO_0000270 | 0 | 0 | 0 | 0 | 0 | 0 | 0 | 0 | 0 |\n",
       "| EFO_0000274 | 0 | 0 | 0 | 0 | 0 | 0 | 0 | 0 | 0 |\n",
       "| EFO_0000305 | 0 | 0 | 0 | 0 | 0 | 0 | 0 | 0 | 0 |\n",
       "| EFO_0000311 | 0 | 0 | 0 | 0 | 0 | 0 | 0 | 0 | 0 |\n",
       "| EFO_0000378 | 0 | 0 | 0 | 0 | 1 | 0 | 0 | 0 | 0 |\n",
       "| EFO_0000384 | 0 | 0 | 1 | 1 | 1 | 0 | 1 | 0 | 0 |\n",
       "| EFO_0000676 | 0 | 0 | 0 | 0 | 0 | 0 | 1 | 0 | 0 |\n",
       "| EFO_0000685 | 0 | 0 | 1 | 0 | 0 | 0 | 0 | 0 | 0 |\n",
       "| EFO_0000712 | 0 | 0 | 0 | 0 | 0 | 0 | 0 | 0 | 0 |\n",
       "\n"
      ],
      "text/plain": [
       "   Gene        2232711 5433064 4840998 3657113 5827994 1977222 3621370 1679063\n",
       "1  CHEBI_9150  0       0       0       0       0       0       0       0      \n",
       "2  EFO_0000270 0       0       0       0       0       0       0       0      \n",
       "3  EFO_0000274 0       0       0       0       0       0       0       0      \n",
       "4  EFO_0000305 0       0       0       0       0       0       0       0      \n",
       "5  EFO_0000311 0       0       0       0       0       0       0       0      \n",
       "6  EFO_0000378 0       0       0       0       1       0       0       0      \n",
       "7  EFO_0000384 0       0       1       1       1       0       1       0      \n",
       "8  EFO_0000676 0       0       0       0       0       0       1       0      \n",
       "9  EFO_0000685 0       0       1       0       0       0       0       0      \n",
       "10 EFO_0000712 0       0       0       0       0       0       0       0      \n",
       "   2735599\n",
       "1  0      \n",
       "2  0      \n",
       "3  0      \n",
       "4  0      \n",
       "5  0      \n",
       "6  0      \n",
       "7  0      \n",
       "8  0      \n",
       "9  0      \n",
       "10 0      "
      ]
     },
     "metadata": {},
     "output_type": "display_data"
    }
   ],
   "source": [
    "geno[1:10,1:10]"
   ]
  },
  {
   "cell_type": "code",
   "execution_count": null,
   "id": "6e93a044-a7d2-40f5-b69e-4ed29ebb6f41",
   "metadata": {},
   "outputs": [],
   "source": []
  }
 ],
 "metadata": {
  "kernelspec": {
   "display_name": "R",
   "language": "R",
   "name": "ir"
  },
  "language_info": {
   "codemirror_mode": "r",
   "file_extension": ".r",
   "mimetype": "text/x-r-source",
   "name": "R",
   "pygments_lexer": "r",
   "version": "4.0.3"
  }
 },
 "nbformat": 4,
 "nbformat_minor": 5
}
