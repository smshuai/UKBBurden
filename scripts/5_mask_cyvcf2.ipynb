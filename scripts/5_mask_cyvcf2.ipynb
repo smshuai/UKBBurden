{
 "cells": [
  {
   "cell_type": "code",
   "execution_count": 39,
   "id": "1c1b864c-141d-4ac8-8a5c-32f602360f83",
   "metadata": {},
   "outputs": [
    {
     "name": "stderr",
     "output_type": "stream",
     "text": [
      "05/09/2021 01:08:20 PM Starting. Args=['/hps/software/users/birney/shimin/miniconda3/envs/cyvcf/lib/python3.9/site-packages/ipykernel_launcher.py', '/nfs/research/birney/users/shimin/ukbb/wes/200k/pvcf/4_vep/ukb23156_c10_b0_v1.vep.qc.norm.vcf.bgz', 'test2']\n"
     ]
    }
   ],
   "source": [
    "# get_lof.py\n",
    "# Usage: get_lof.py FE_plink.chr21.recode.vep.vcf.gz chr21\n",
    "\n",
    "import sys\n",
    "from cyvcf2 import VCF\n",
    "import time\n",
    "import logging\n",
    "logging.basicConfig(format='%(message)s')\n",
    "\n",
    "logging.warning('Starting. Args={}'.format(sys.argv))\n",
    "\n"
   ]
  },
  {
   "cell_type": "code",
   "execution_count": 33,
   "id": "57143f61-bd2f-4672-89e5-c97d00732fd7",
   "metadata": {},
   "outputs": [],
   "source": [
    "sys.argv[1] = '/nfs/research/birney/users/shimin/ukbb/wes/200k/pvcf/4_vep/ukb23156_c10_b0_v1.vep.qc.norm.vcf.bgz'\n",
    "sys.argv[2] = 'test2'\n",
    "\n",
    "vcf_reader = VCF(sys.argv[1], gts012=True, threads=4)\n",
    "n_record = 0\n",
    "n_mask1 = 0\n",
    "n_mask2 = 0"
   ]
  },
  {
   "cell_type": "code",
   "execution_count": 36,
   "id": "40e1c847-9c53-4e4c-9b03-af52c6a57166",
   "metadata": {},
   "outputs": [
    {
     "name": "stdout",
     "output_type": "stream",
     "text": [
      "['Allele', 'Consequence', 'IMPACT', 'SYMBOL', 'Gene', 'Feature_type', 'Feature', 'BIOTYPE', 'EXON', 'INTRON', 'HGVSc', 'HGVSp', 'cDNA_position', 'CDS_position', 'Protein_position', 'Amino_acids', 'Codons', 'Existing_variation', 'DISTANCE', 'STRAND', 'FLAGS', 'VARIANT_CLASS', 'SYMBOL_SOURCE', 'HGNC_ID', 'CANONICAL', 'MANE_SELECT', 'MANE_PLUS_CLINICAL', 'TSL', 'APPRIS', 'CCDS', 'ENSP', 'SWISSPROT', 'TREMBL', 'UNIPARC', 'UNIPROT_ISOFORM', 'GENE_PHENO', 'SIFT', 'PolyPhen', 'DOMAINS', 'miRNA', 'HGVS_OFFSET', 'AF', 'AFR_AF', 'AMR_AF', 'EAS_AF', 'EUR_AF', 'SAS_AF', 'AA_AF', 'EA_AF', 'gnomAD_AF', 'gnomAD_AFR_AF', 'gnomAD_AMR_AF', 'gnomAD_ASJ_AF', 'gnomAD_EAS_AF', 'gnomAD_FIN_AF', 'gnomAD_NFE_AF', 'gnomAD_OTH_AF', 'gnomAD_SAS_AF', 'MAX_AF', 'MAX_AF_POPS', 'CLIN_SIG', 'SOMATIC', 'PHENO', 'PUBMED', 'MOTIF_NAME', 'MOTIF_POS', 'HIGH_INF_POS', 'MOTIF_SCORE_CHANGE', 'TRANSCRIPTION_FACTORS', 'Ensembl_transcriptid', 'LRT_pred', 'MutationTaster_pred', 'Polyphen2_HDIV_pred', 'Polyphen2_HVAR_pred', 'SIFT_pred', 'Uniprot_acc', 'VEP_canonical', 'LoF', 'LoF_filter', 'LoF_flags', 'LoF_info']\n"
     ]
    }
   ],
   "source": [
    "info_format = vcf_reader.get_header_type('CSQ')['Description'].split('Format: ')[1].split('|')\n",
    "info_format[-1] = 'LoF_info'\n",
    "# print(info_format)\n",
    "max_af = info_format.index('MAX_AF')\n",
    "lof = info_format.index('LoF')\n",
    "canonical = info_format.index('CANONICAL')\n",
    "lrt_pred = info_format.index('LRT_pred')\n",
    "consequence = info_format.index('Consequence')\n",
    "impact = info_format.index('IMPACT')"
   ]
  },
  {
   "cell_type": "code",
   "execution_count": 34,
   "id": "9e6373f5-9080-49e3-925c-c0b4f30b651f",
   "metadata": {},
   "outputs": [
    {
     "name": "stderr",
     "output_type": "stream",
     "text": [
      "05/09/2021 12:54:54 PM Processing 1000 records, 99.96923702 secs passed.\n",
      "05/09/2021 12:56:30 PM Processing 2000 records, 201.357912156 secs passed.\n",
      "05/09/2021 12:58:12 PM Processing 3000 records, 308.562281291 secs passed.\n",
      "05/09/2021 12:59:50 PM Processing 4000 records, 411.845951862 secs passed.\n",
      "05/09/2021 01:01:23 PM Processing 5000 records, 510.42041390799994 secs passed.\n",
      "05/09/2021 01:03:05 PM Processing 6000 records, 617.5556414680001 secs passed.\n",
      "05/09/2021 01:04:52 PM Processing 7000 records, 729.632634853 secs passed.\n",
      "05/09/2021 01:05:01 PM Stats,n_mask1,n_mask2,n_record\n",
      "05/09/2021 01:05:01 PM Stats,210,3329,7081\n"
     ]
    }
   ],
   "source": [
    "def apply_mask(csq_records):\n",
    "    global max_af, lof, canonical, impact, consequence\n",
    "    for csq in csq_records:\n",
    "        csq_info = csq.split('|')\n",
    "        maf = 0 if csq_info[max_af] == '' else float(csq_info[max_af])\n",
    "        # Rare, canonical\n",
    "        if csq_info[canonical] == 'YES' and maf < 0.01:\n",
    "            if csq_info[lof] == 'HC':\n",
    "                return('m1', csq_info)\n",
    "            elif csq_info[consequence] == 'missense_variant' and (csq_info[impact] in ('HIGH', 'MODERATE')):\n",
    "                return('m2', csq_info)\n",
    "    return(None, csq_info)\n",
    "\n",
    "\n",
    "# Generate genotype matrix\n",
    "fgt_m1 = open(sys.argv[2] + '.mask1.genotype.tsv', 'w')\n",
    "fgt_m2 = open(sys.argv[2] + '.mask2.genotype.tsv', 'w')\n",
    "# Write header of sample names.\n",
    "fgt_m1.write(\"\\t\".join(['CHROM', 'POS', 'ID', 'REF', 'ALT'] + info_format + vcf_reader.samples) + '\\n')\n",
    "fgt_m2.write(\"\\t\".join(['CHROM', 'POS', 'ID', 'REF', 'ALT'] + info_format + vcf_reader.samples) + '\\n')\n",
    "\n",
    "    \n",
    "# Input VCF with VEP annotated variants\n",
    "t = time.process_time()\n",
    "for record in vcf_reader:\n",
    "    n_record += 1\n",
    "    if n_record % 1000 == 0:\n",
    "        delta_t = time.process_time() - t\n",
    "        logging.warning('Processing {} records, {} secs passed.'.format(n_record, delta_t))\n",
    "    if record.aaf > 0.01:\n",
    "        # Not rare in the current cohort, skip\n",
    "        continue\n",
    "    mask, info = apply_mask(record.INFO['CSQ'].split(','))\n",
    "    if mask == 'm1':\n",
    "        n_mask1 += 1\n",
    "        # The type of genotype. hom_ref = 0 het = 1 hom_alt = 2 uncalled = None\n",
    "        fgt_m1.write(\"\\t\".join([record.CHROM, str(record.POS), record.ID, record.REF, record.ALT[0]] + info + record.gt_types.astype(str).tolist()) + '\\n')\n",
    "    elif mask == 'm2':\n",
    "        n_mask2 += 1\n",
    "        fgt_m2.write(\"\\t\".join([record.CHROM, str(record.POS), record.ID, record.REF, record.ALT[0]] + info + record.gt_types.astype(str).tolist()) + '\\n')\n",
    "\n",
    "fgt_m1.close()\n",
    "fgt_m2.close()\n",
    "\n",
    "logging.warning(f'{sys.argv[2]},stats,n_mask1,n_mask2,n_record')\n",
    "logging.warning(f'{sys.argv[2]},stats,{n_mask1},{n_mask2},{n_record}')"
   ]
  }
 ],
 "metadata": {
  "kernelspec": {
   "display_name": "Python 3",
   "language": "python",
   "name": "python3"
  },
  "language_info": {
   "codemirror_mode": {
    "name": "ipython",
    "version": 3
   },
   "file_extension": ".py",
   "mimetype": "text/x-python",
   "name": "python",
   "nbconvert_exporter": "python",
   "pygments_lexer": "ipython3",
   "version": "3.9.2"
  }
 },
 "nbformat": 4,
 "nbformat_minor": 5
}
